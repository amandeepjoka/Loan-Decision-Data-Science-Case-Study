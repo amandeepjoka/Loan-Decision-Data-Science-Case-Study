{
 "cells": [
  {
   "cell_type": "code",
   "execution_count": 1,
   "metadata": {},
   "outputs": [],
   "source": [
    "import numpy as np \n",
    "import pandas as pd\n",
    "from sklearn.tree import DecisionTreeClassifier\n",
    "from sklearn.model_selection import train_test_split\n",
    "from sklearn import preprocessing\n",
    "from sklearn.ensemble import RandomForestRegressor\n",
    "# importing the tools to help us perform cross-validation.\n",
    "from sklearn.pipeline import make_pipeline\n",
    "from sklearn.model_selection import GridSearchCV\n",
    "# import some metrics we can use to evaluate our model performance later.\n",
    "from sklearn.metrics import mean_squared_error, r2_score\n",
    "# import a way to persist our model for future use.\n",
    "from sklearn.externals import joblib\n",
    "from sklearn.preprocessing import Imputer\n",
    "from sklearn.discriminant_analysis import LinearDiscriminantAnalysis\n",
    "from sklearn.model_selection import KFold\n",
    "from sklearn.model_selection import cross_val_score\n",
    "import matplotlib.pyplot as plt      # matplotlib.pyplot plots data\n",
    "import warnings\n",
    "import seaborn as sns\n",
    "from sklearn.metrics import roc_auc_score"
   ]
  },
  {
   "cell_type": "markdown",
   "metadata": {},
   "source": [
    "## Reading Dataset"
   ]
  },
  {
   "cell_type": "code",
   "execution_count": 2,
   "metadata": {},
   "outputs": [],
   "source": [
    "warnings.filterwarnings('ignore')"
   ]
  },
  {
   "cell_type": "code",
   "execution_count": 3,
   "metadata": {},
   "outputs": [
    {
     "data": {
      "text/plain": [
       "pandas.core.frame.DataFrame"
      ]
     },
     "execution_count": 3,
     "metadata": {},
     "output_type": "execute_result"
    }
   ],
   "source": [
    "data = pd.read_csv(r\"C:\\Users\\amandeep.singh\\Desktop\\data.csv\", delimiter=\",\")\n",
    "type(data)"
   ]
  },
  {
   "cell_type": "markdown",
   "metadata": {},
   "source": [
    "## Data Exploration"
   ]
  },
  {
   "cell_type": "code",
   "execution_count": 4,
   "metadata": {},
   "outputs": [
    {
     "data": {
      "text/html": [
       "<div>\n",
       "<style scoped>\n",
       "    .dataframe tbody tr th:only-of-type {\n",
       "        vertical-align: middle;\n",
       "    }\n",
       "\n",
       "    .dataframe tbody tr th {\n",
       "        vertical-align: top;\n",
       "    }\n",
       "\n",
       "    .dataframe thead th {\n",
       "        text-align: right;\n",
       "    }\n",
       "</style>\n",
       "<table border=\"1\" class=\"dataframe\">\n",
       "  <thead>\n",
       "    <tr style=\"text-align: right;\">\n",
       "      <th></th>\n",
       "      <th>Loan_ID</th>\n",
       "      <th>Gender</th>\n",
       "      <th>Married</th>\n",
       "      <th>Dependents</th>\n",
       "      <th>Education</th>\n",
       "      <th>Self_Employed</th>\n",
       "      <th>ApplicantIncome</th>\n",
       "      <th>CoapplicantIncome</th>\n",
       "      <th>LoanAmount</th>\n",
       "      <th>Loan_Amount_Term</th>\n",
       "      <th>Credit_History</th>\n",
       "      <th>Property_Area</th>\n",
       "      <th>Loan_Status</th>\n",
       "    </tr>\n",
       "  </thead>\n",
       "  <tbody>\n",
       "    <tr>\n",
       "      <th>0</th>\n",
       "      <td>LP001002</td>\n",
       "      <td>Male</td>\n",
       "      <td>No</td>\n",
       "      <td>0</td>\n",
       "      <td>Graduate</td>\n",
       "      <td>No</td>\n",
       "      <td>5849</td>\n",
       "      <td>0.0</td>\n",
       "      <td>NaN</td>\n",
       "      <td>360.0</td>\n",
       "      <td>1.0</td>\n",
       "      <td>Urban</td>\n",
       "      <td>Y</td>\n",
       "    </tr>\n",
       "    <tr>\n",
       "      <th>1</th>\n",
       "      <td>LP001003</td>\n",
       "      <td>Male</td>\n",
       "      <td>Yes</td>\n",
       "      <td>1</td>\n",
       "      <td>Graduate</td>\n",
       "      <td>No</td>\n",
       "      <td>4583</td>\n",
       "      <td>1508.0</td>\n",
       "      <td>128.0</td>\n",
       "      <td>360.0</td>\n",
       "      <td>1.0</td>\n",
       "      <td>Rural</td>\n",
       "      <td>N</td>\n",
       "    </tr>\n",
       "    <tr>\n",
       "      <th>2</th>\n",
       "      <td>LP001005</td>\n",
       "      <td>Male</td>\n",
       "      <td>Yes</td>\n",
       "      <td>0</td>\n",
       "      <td>Graduate</td>\n",
       "      <td>Yes</td>\n",
       "      <td>3000</td>\n",
       "      <td>0.0</td>\n",
       "      <td>66.0</td>\n",
       "      <td>360.0</td>\n",
       "      <td>1.0</td>\n",
       "      <td>Urban</td>\n",
       "      <td>Y</td>\n",
       "    </tr>\n",
       "    <tr>\n",
       "      <th>3</th>\n",
       "      <td>LP001006</td>\n",
       "      <td>Male</td>\n",
       "      <td>Yes</td>\n",
       "      <td>0</td>\n",
       "      <td>Not Graduate</td>\n",
       "      <td>No</td>\n",
       "      <td>2583</td>\n",
       "      <td>2358.0</td>\n",
       "      <td>120.0</td>\n",
       "      <td>360.0</td>\n",
       "      <td>1.0</td>\n",
       "      <td>Urban</td>\n",
       "      <td>Y</td>\n",
       "    </tr>\n",
       "    <tr>\n",
       "      <th>4</th>\n",
       "      <td>LP001008</td>\n",
       "      <td>Male</td>\n",
       "      <td>No</td>\n",
       "      <td>0</td>\n",
       "      <td>Graduate</td>\n",
       "      <td>No</td>\n",
       "      <td>6000</td>\n",
       "      <td>0.0</td>\n",
       "      <td>141.0</td>\n",
       "      <td>360.0</td>\n",
       "      <td>1.0</td>\n",
       "      <td>Urban</td>\n",
       "      <td>Y</td>\n",
       "    </tr>\n",
       "    <tr>\n",
       "      <th>5</th>\n",
       "      <td>LP001011</td>\n",
       "      <td>Male</td>\n",
       "      <td>Yes</td>\n",
       "      <td>2</td>\n",
       "      <td>Graduate</td>\n",
       "      <td>Yes</td>\n",
       "      <td>5417</td>\n",
       "      <td>4196.0</td>\n",
       "      <td>267.0</td>\n",
       "      <td>360.0</td>\n",
       "      <td>1.0</td>\n",
       "      <td>Urban</td>\n",
       "      <td>Y</td>\n",
       "    </tr>\n",
       "    <tr>\n",
       "      <th>6</th>\n",
       "      <td>LP001013</td>\n",
       "      <td>Male</td>\n",
       "      <td>Yes</td>\n",
       "      <td>0</td>\n",
       "      <td>Not Graduate</td>\n",
       "      <td>No</td>\n",
       "      <td>2333</td>\n",
       "      <td>1516.0</td>\n",
       "      <td>95.0</td>\n",
       "      <td>360.0</td>\n",
       "      <td>1.0</td>\n",
       "      <td>Urban</td>\n",
       "      <td>Y</td>\n",
       "    </tr>\n",
       "    <tr>\n",
       "      <th>7</th>\n",
       "      <td>LP001014</td>\n",
       "      <td>Male</td>\n",
       "      <td>Yes</td>\n",
       "      <td>3+</td>\n",
       "      <td>Graduate</td>\n",
       "      <td>No</td>\n",
       "      <td>3036</td>\n",
       "      <td>2504.0</td>\n",
       "      <td>158.0</td>\n",
       "      <td>360.0</td>\n",
       "      <td>0.0</td>\n",
       "      <td>Semiurban</td>\n",
       "      <td>N</td>\n",
       "    </tr>\n",
       "    <tr>\n",
       "      <th>8</th>\n",
       "      <td>LP001018</td>\n",
       "      <td>Male</td>\n",
       "      <td>Yes</td>\n",
       "      <td>2</td>\n",
       "      <td>Graduate</td>\n",
       "      <td>No</td>\n",
       "      <td>4006</td>\n",
       "      <td>1526.0</td>\n",
       "      <td>168.0</td>\n",
       "      <td>360.0</td>\n",
       "      <td>1.0</td>\n",
       "      <td>Urban</td>\n",
       "      <td>Y</td>\n",
       "    </tr>\n",
       "    <tr>\n",
       "      <th>9</th>\n",
       "      <td>LP001020</td>\n",
       "      <td>Male</td>\n",
       "      <td>Yes</td>\n",
       "      <td>1</td>\n",
       "      <td>Graduate</td>\n",
       "      <td>No</td>\n",
       "      <td>12841</td>\n",
       "      <td>10968.0</td>\n",
       "      <td>349.0</td>\n",
       "      <td>360.0</td>\n",
       "      <td>1.0</td>\n",
       "      <td>Semiurban</td>\n",
       "      <td>N</td>\n",
       "    </tr>\n",
       "  </tbody>\n",
       "</table>\n",
       "</div>"
      ],
      "text/plain": [
       "    Loan_ID Gender Married Dependents     Education Self_Employed  \\\n",
       "0  LP001002   Male      No          0      Graduate            No   \n",
       "1  LP001003   Male     Yes          1      Graduate            No   \n",
       "2  LP001005   Male     Yes          0      Graduate           Yes   \n",
       "3  LP001006   Male     Yes          0  Not Graduate            No   \n",
       "4  LP001008   Male      No          0      Graduate            No   \n",
       "5  LP001011   Male     Yes          2      Graduate           Yes   \n",
       "6  LP001013   Male     Yes          0  Not Graduate            No   \n",
       "7  LP001014   Male     Yes         3+      Graduate            No   \n",
       "8  LP001018   Male     Yes          2      Graduate            No   \n",
       "9  LP001020   Male     Yes          1      Graduate            No   \n",
       "\n",
       "   ApplicantIncome  CoapplicantIncome  LoanAmount  Loan_Amount_Term  \\\n",
       "0             5849                0.0         NaN             360.0   \n",
       "1             4583             1508.0       128.0             360.0   \n",
       "2             3000                0.0        66.0             360.0   \n",
       "3             2583             2358.0       120.0             360.0   \n",
       "4             6000                0.0       141.0             360.0   \n",
       "5             5417             4196.0       267.0             360.0   \n",
       "6             2333             1516.0        95.0             360.0   \n",
       "7             3036             2504.0       158.0             360.0   \n",
       "8             4006             1526.0       168.0             360.0   \n",
       "9            12841            10968.0       349.0             360.0   \n",
       "\n",
       "   Credit_History Property_Area Loan_Status  \n",
       "0             1.0         Urban           Y  \n",
       "1             1.0         Rural           N  \n",
       "2             1.0         Urban           Y  \n",
       "3             1.0         Urban           Y  \n",
       "4             1.0         Urban           Y  \n",
       "5             1.0         Urban           Y  \n",
       "6             1.0         Urban           Y  \n",
       "7             0.0     Semiurban           N  \n",
       "8             1.0         Urban           Y  \n",
       "9             1.0     Semiurban           N  "
      ]
     },
     "execution_count": 4,
     "metadata": {},
     "output_type": "execute_result"
    }
   ],
   "source": [
    "data.head(10)"
   ]
  },
  {
   "cell_type": "code",
   "execution_count": 5,
   "metadata": {},
   "outputs": [
    {
     "data": {
      "text/plain": [
       "(981, 13)"
      ]
     },
     "execution_count": 5,
     "metadata": {},
     "output_type": "execute_result"
    }
   ],
   "source": [
    "data.shape"
   ]
  },
  {
   "cell_type": "markdown",
   "metadata": {},
   "source": [
    "## Checking for data sparcity"
   ]
  },
  {
   "cell_type": "code",
   "execution_count": 6,
   "metadata": {},
   "outputs": [
    {
     "name": "stdout",
     "output_type": "stream",
     "text": [
      "Number of True cases:  722 (73.60%)\n",
      "Number of False cases: 259 (26.40%)\n"
     ]
    }
   ],
   "source": [
    "num_obs = len(data)\n",
    "num_true = len(data.loc[data['Loan_Status'] == 'Y'])\n",
    "num_false = len(data.loc[data['Loan_Status'] == 'N'])\n",
    "print(\"Number of True cases:  {0} ({1:2.2f}%)\".format(num_true, (num_true/num_obs) * 100))\n",
    "print(\"Number of False cases: {0} ({1:2.2f}%)\".format(num_false, (num_false/num_obs) * 100))"
   ]
  },
  {
   "cell_type": "markdown",
   "metadata": {},
   "source": [
    "## Get Correlation between parameters"
   ]
  },
  {
   "cell_type": "code",
   "execution_count": 7,
   "metadata": {},
   "outputs": [
    {
     "data": {
      "text/html": [
       "<div>\n",
       "<style scoped>\n",
       "    .dataframe tbody tr th:only-of-type {\n",
       "        vertical-align: middle;\n",
       "    }\n",
       "\n",
       "    .dataframe tbody tr th {\n",
       "        vertical-align: top;\n",
       "    }\n",
       "\n",
       "    .dataframe thead th {\n",
       "        text-align: right;\n",
       "    }\n",
       "</style>\n",
       "<table border=\"1\" class=\"dataframe\">\n",
       "  <thead>\n",
       "    <tr style=\"text-align: right;\">\n",
       "      <th></th>\n",
       "      <th>ApplicantIncome</th>\n",
       "      <th>CoapplicantIncome</th>\n",
       "      <th>LoanAmount</th>\n",
       "      <th>Loan_Amount_Term</th>\n",
       "      <th>Credit_History</th>\n",
       "    </tr>\n",
       "  </thead>\n",
       "  <tbody>\n",
       "    <tr>\n",
       "      <th>ApplicantIncome</th>\n",
       "      <td>1.000000</td>\n",
       "      <td>-0.114247</td>\n",
       "      <td>0.551811</td>\n",
       "      <td>-0.023089</td>\n",
       "      <td>0.023378</td>\n",
       "    </tr>\n",
       "    <tr>\n",
       "      <th>CoapplicantIncome</th>\n",
       "      <td>-0.114247</td>\n",
       "      <td>1.000000</td>\n",
       "      <td>0.179228</td>\n",
       "      <td>-0.043860</td>\n",
       "      <td>-0.027253</td>\n",
       "    </tr>\n",
       "    <tr>\n",
       "      <th>LoanAmount</th>\n",
       "      <td>0.551811</td>\n",
       "      <td>0.179228</td>\n",
       "      <td>1.000000</td>\n",
       "      <td>0.055636</td>\n",
       "      <td>-0.008235</td>\n",
       "    </tr>\n",
       "    <tr>\n",
       "      <th>Loan_Amount_Term</th>\n",
       "      <td>-0.023089</td>\n",
       "      <td>-0.043860</td>\n",
       "      <td>0.055636</td>\n",
       "      <td>1.000000</td>\n",
       "      <td>-0.020439</td>\n",
       "    </tr>\n",
       "    <tr>\n",
       "      <th>Credit_History</th>\n",
       "      <td>0.023378</td>\n",
       "      <td>-0.027253</td>\n",
       "      <td>-0.008235</td>\n",
       "      <td>-0.020439</td>\n",
       "      <td>1.000000</td>\n",
       "    </tr>\n",
       "  </tbody>\n",
       "</table>\n",
       "</div>"
      ],
      "text/plain": [
       "                   ApplicantIncome  CoapplicantIncome  LoanAmount  \\\n",
       "ApplicantIncome           1.000000          -0.114247    0.551811   \n",
       "CoapplicantIncome        -0.114247           1.000000    0.179228   \n",
       "LoanAmount                0.551811           0.179228    1.000000   \n",
       "Loan_Amount_Term         -0.023089          -0.043860    0.055636   \n",
       "Credit_History            0.023378          -0.027253   -0.008235   \n",
       "\n",
       "                   Loan_Amount_Term  Credit_History  \n",
       "ApplicantIncome           -0.023089        0.023378  \n",
       "CoapplicantIncome         -0.043860       -0.027253  \n",
       "LoanAmount                 0.055636       -0.008235  \n",
       "Loan_Amount_Term           1.000000       -0.020439  \n",
       "Credit_History            -0.020439        1.000000  "
      ]
     },
     "execution_count": 7,
     "metadata": {},
     "output_type": "execute_result"
    },
    {
     "data": {
      "image/png": "[encoded data removed]",
      "text/plain": [
       "<Figure size 720x720 with 1 Axes>"
      ]
     },
     "metadata": {},
     "output_type": "display_data"
    }
   ],
   "source": [
    "def plot_corr(data, size=10):\n",
    "    \"\"\"\n",
    "    Function plots a graphical correlation matrix for each pair of columns in the dataframe\n",
    "    Input:\n",
    "        df: pandas DataFrame\n",
    "        size: vertical and horizontal size of the plot\n",
    "    Displays:\n",
    "        matrix of correlation between columns.  Blue-cyan-yellow-red-darkred => less to more correlated\n",
    "                                                0 ------------------>  1\n",
    "                                               Expect a darkred line running from top left to bottom right\n",
    "    \"\"\"\n",
    "    corr = data.corr()    # data frame correlation function\n",
    "    fig, ax = plt.subplots(figsize=(size, size))\n",
    "    ax.matshow(corr)   # color code the rectangles by correlation value\n",
    "    plt.xticks(range(len(corr.columns)), corr.columns)  # draw x tick marks\n",
    "    plt.yticks(range(len(corr.columns)), corr.columns)  # draw y tick marks\n",
    "plot_corr(data)\n",
    "data.corr()"
   ]
  },
  {
   "cell_type": "markdown",
   "metadata": {},
   "source": [
    "## Only Credit History seems to be correlated to Loan Status"
   ]
  },
  {
   "cell_type": "markdown",
   "metadata": {},
   "source": [
    "## Separating target from data"
   ]
  },
  {
   "cell_type": "code",
   "execution_count": 8,
   "metadata": {},
   "outputs": [],
   "source": [
    "X = data.drop('Loan_Status', axis=1)"
   ]
  },
  {
   "cell_type": "markdown",
   "metadata": {},
   "source": [
    "## Checking for empty values and anomalies"
   ]
  },
  {
   "cell_type": "code",
   "execution_count": 9,
   "metadata": {
    "scrolled": true
   },
   "outputs": [
    {
     "name": "stdout",
     "output_type": "stream",
     "text": [
      "<class 'pandas.core.frame.DataFrame'>\n",
      "RangeIndex: 981 entries, 0 to 980\n",
      "Data columns (total 12 columns):\n",
      "Loan_ID              981 non-null object\n",
      "Gender               957 non-null object\n",
      "Married              978 non-null object\n",
      "Dependents           956 non-null object\n",
      "Education            981 non-null object\n",
      "Self_Employed        926 non-null object\n",
      "ApplicantIncome      981 non-null int64\n",
      "CoapplicantIncome    981 non-null float64\n",
      "LoanAmount           954 non-null float64\n",
      "Loan_Amount_Term     961 non-null float64\n",
      "Credit_History       902 non-null float64\n",
      "Property_Area        981 non-null object\n",
      "dtypes: float64(4), int64(1), object(7)\n",
      "memory usage: 92.0+ KB\n"
     ]
    }
   ],
   "source": [
    "X.info()"
   ]
  },
  {
   "cell_type": "code",
   "execution_count": 10,
   "metadata": {},
   "outputs": [
    {
     "data": {
      "text/html": [
       "<div>\n",
       "<style scoped>\n",
       "    .dataframe tbody tr th:only-of-type {\n",
       "        vertical-align: middle;\n",
       "    }\n",
       "\n",
       "    .dataframe tbody tr th {\n",
       "        vertical-align: top;\n",
       "    }\n",
       "\n",
       "    .dataframe thead th {\n",
       "        text-align: right;\n",
       "    }\n",
       "</style>\n",
       "<table border=\"1\" class=\"dataframe\">\n",
       "  <thead>\n",
       "    <tr style=\"text-align: right;\">\n",
       "      <th></th>\n",
       "      <th>ApplicantIncome</th>\n",
       "      <th>CoapplicantIncome</th>\n",
       "      <th>LoanAmount</th>\n",
       "      <th>Loan_Amount_Term</th>\n",
       "      <th>Credit_History</th>\n",
       "    </tr>\n",
       "  </thead>\n",
       "  <tbody>\n",
       "    <tr>\n",
       "      <th>count</th>\n",
       "      <td>981.000000</td>\n",
       "      <td>981.000000</td>\n",
       "      <td>954.000000</td>\n",
       "      <td>961.000000</td>\n",
       "      <td>902.000000</td>\n",
       "    </tr>\n",
       "    <tr>\n",
       "      <th>mean</th>\n",
       "      <td>5179.795107</td>\n",
       "      <td>1601.916330</td>\n",
       "      <td>142.511530</td>\n",
       "      <td>342.201873</td>\n",
       "      <td>0.835920</td>\n",
       "    </tr>\n",
       "    <tr>\n",
       "      <th>std</th>\n",
       "      <td>5695.104533</td>\n",
       "      <td>2718.772806</td>\n",
       "      <td>77.421743</td>\n",
       "      <td>65.100602</td>\n",
       "      <td>0.370553</td>\n",
       "    </tr>\n",
       "    <tr>\n",
       "      <th>min</th>\n",
       "      <td>0.000000</td>\n",
       "      <td>0.000000</td>\n",
       "      <td>9.000000</td>\n",
       "      <td>6.000000</td>\n",
       "      <td>0.000000</td>\n",
       "    </tr>\n",
       "    <tr>\n",
       "      <th>25%</th>\n",
       "      <td>2875.000000</td>\n",
       "      <td>0.000000</td>\n",
       "      <td>100.000000</td>\n",
       "      <td>360.000000</td>\n",
       "      <td>1.000000</td>\n",
       "    </tr>\n",
       "    <tr>\n",
       "      <th>50%</th>\n",
       "      <td>3800.000000</td>\n",
       "      <td>1110.000000</td>\n",
       "      <td>126.000000</td>\n",
       "      <td>360.000000</td>\n",
       "      <td>1.000000</td>\n",
       "    </tr>\n",
       "    <tr>\n",
       "      <th>75%</th>\n",
       "      <td>5516.000000</td>\n",
       "      <td>2365.000000</td>\n",
       "      <td>162.000000</td>\n",
       "      <td>360.000000</td>\n",
       "      <td>1.000000</td>\n",
       "    </tr>\n",
       "    <tr>\n",
       "      <th>max</th>\n",
       "      <td>81000.000000</td>\n",
       "      <td>41667.000000</td>\n",
       "      <td>700.000000</td>\n",
       "      <td>480.000000</td>\n",
       "      <td>1.000000</td>\n",
       "    </tr>\n",
       "  </tbody>\n",
       "</table>\n",
       "</div>"
      ],
      "text/plain": [
       "       ApplicantIncome  CoapplicantIncome  LoanAmount  Loan_Amount_Term  \\\n",
       "count       981.000000         981.000000  954.000000        961.000000   \n",
       "mean       5179.795107        1601.916330  142.511530        342.201873   \n",
       "std        5695.104533        2718.772806   77.421743         65.100602   \n",
       "min           0.000000           0.000000    9.000000          6.000000   \n",
       "25%        2875.000000           0.000000  100.000000        360.000000   \n",
       "50%        3800.000000        1110.000000  126.000000        360.000000   \n",
       "75%        5516.000000        2365.000000  162.000000        360.000000   \n",
       "max       81000.000000       41667.000000  700.000000        480.000000   \n",
       "\n",
       "       Credit_History  \n",
       "count      902.000000  \n",
       "mean         0.835920  \n",
       "std          0.370553  \n",
       "min          0.000000  \n",
       "25%          1.000000  \n",
       "50%          1.000000  \n",
       "75%          1.000000  \n",
       "max          1.000000  "
      ]
     },
     "execution_count": 10,
     "metadata": {},
     "output_type": "execute_result"
    }
   ],
   "source": [
    "X.describe()"
   ]
  },
  {
   "cell_type": "markdown",
   "metadata": {},
   "source": [
    "### Some data is missing and in some cases Applicant income is 0....so we need to check if this is a possibility"
   ]
  },
  {
   "cell_type": "code",
   "execution_count": 11,
   "metadata": {},
   "outputs": [
    {
     "data": {
      "text/html": [
       "<div>\n",
       "<style scoped>\n",
       "    .dataframe tbody tr th:only-of-type {\n",
       "        vertical-align: middle;\n",
       "    }\n",
       "\n",
       "    .dataframe tbody tr th {\n",
       "        vertical-align: top;\n",
       "    }\n",
       "\n",
       "    .dataframe thead th {\n",
       "        text-align: right;\n",
       "    }\n",
       "</style>\n",
       "<table border=\"1\" class=\"dataframe\">\n",
       "  <thead>\n",
       "    <tr style=\"text-align: right;\">\n",
       "      <th></th>\n",
       "      <th>Loan_ID</th>\n",
       "      <th>Gender</th>\n",
       "      <th>Married</th>\n",
       "      <th>Dependents</th>\n",
       "      <th>Education</th>\n",
       "      <th>Self_Employed</th>\n",
       "      <th>ApplicantIncome</th>\n",
       "      <th>CoapplicantIncome</th>\n",
       "      <th>LoanAmount</th>\n",
       "      <th>Loan_Amount_Term</th>\n",
       "      <th>Credit_History</th>\n",
       "      <th>Property_Area</th>\n",
       "    </tr>\n",
       "  </thead>\n",
       "  <tbody>\n",
       "    <tr>\n",
       "      <th>639</th>\n",
       "      <td>LP001153</td>\n",
       "      <td>Male</td>\n",
       "      <td>No</td>\n",
       "      <td>0</td>\n",
       "      <td>Graduate</td>\n",
       "      <td>No</td>\n",
       "      <td>0</td>\n",
       "      <td>24000.0</td>\n",
       "      <td>148.0</td>\n",
       "      <td>360.0</td>\n",
       "      <td>0.0</td>\n",
       "      <td>Rural</td>\n",
       "    </tr>\n",
       "    <tr>\n",
       "      <th>730</th>\n",
       "      <td>LP001607</td>\n",
       "      <td>Female</td>\n",
       "      <td>No</td>\n",
       "      <td>0</td>\n",
       "      <td>Not Graduate</td>\n",
       "      <td>No</td>\n",
       "      <td>0</td>\n",
       "      <td>1760.0</td>\n",
       "      <td>180.0</td>\n",
       "      <td>360.0</td>\n",
       "      <td>1.0</td>\n",
       "      <td>Semiurban</td>\n",
       "    </tr>\n",
       "  </tbody>\n",
       "</table>\n",
       "</div>"
      ],
      "text/plain": [
       "      Loan_ID  Gender Married Dependents     Education Self_Employed  \\\n",
       "639  LP001153    Male      No          0      Graduate            No   \n",
       "730  LP001607  Female      No          0  Not Graduate            No   \n",
       "\n",
       "     ApplicantIncome  CoapplicantIncome  LoanAmount  Loan_Amount_Term  \\\n",
       "639                0            24000.0       148.0             360.0   \n",
       "730                0             1760.0       180.0             360.0   \n",
       "\n",
       "     Credit_History Property_Area  \n",
       "639             0.0         Rural  \n",
       "730             1.0     Semiurban  "
      ]
     },
     "execution_count": 11,
     "metadata": {},
     "output_type": "execute_result"
    }
   ],
   "source": [
    "X[X['ApplicantIncome']==0]"
   ]
  },
  {
   "cell_type": "markdown",
   "metadata": {},
   "source": [
    "### Coapplicant income in these cases isn't 0 so we assume this is fine..."
   ]
  },
  {
   "cell_type": "markdown",
   "metadata": {},
   "source": [
    "## Futher explorations to inspect if Gender plays a role in mean and median income"
   ]
  },
  {
   "cell_type": "code",
   "execution_count": 12,
   "metadata": {},
   "outputs": [
    {
     "data": {
      "text/plain": [
       "Gender\n",
       "Female    3634.5\n",
       "Male      3865.0\n",
       "Name: ApplicantIncome, dtype: float64"
      ]
     },
     "execution_count": 12,
     "metadata": {},
     "output_type": "execute_result"
    }
   ],
   "source": [
    "X.groupby('Gender').ApplicantIncome.median()"
   ]
  },
  {
   "cell_type": "code",
   "execution_count": 13,
   "metadata": {},
   "outputs": [
    {
     "data": {
      "text/plain": [
       "Gender\n",
       "Female    4458.906593\n",
       "Male      5256.925161\n",
       "Name: ApplicantIncome, dtype: float64"
      ]
     },
     "execution_count": 13,
     "metadata": {},
     "output_type": "execute_result"
    }
   ],
   "source": [
    "X.groupby('Gender').ApplicantIncome.mean()"
   ]
  },
  {
   "cell_type": "markdown",
   "metadata": {},
   "source": [
    "## Imputing missing values in Self Employed"
   ]
  },
  {
   "cell_type": "markdown",
   "metadata": {},
   "source": [
    "## Exploring if we can determine Self Employed status through applicant income stats.."
   ]
  },
  {
   "cell_type": "code",
   "execution_count": 14,
   "metadata": {},
   "outputs": [
    {
     "data": {
      "text/plain": [
       "Self_Employed\n",
       "No     4892.030979\n",
       "Yes    6912.579832\n",
       "Name: ApplicantIncome, dtype: float64"
      ]
     },
     "execution_count": 14,
     "metadata": {},
     "output_type": "execute_result"
    }
   ],
   "source": [
    "X.groupby('Self_Employed').ApplicantIncome.mean()"
   ]
  },
  {
   "cell_type": "code",
   "execution_count": 15,
   "metadata": {},
   "outputs": [
    {
     "data": {
      "text/plain": [
       "Self_Employed\n",
       "No     3708\n",
       "Yes    5503\n",
       "Name: ApplicantIncome, dtype: int64"
      ]
     },
     "execution_count": 15,
     "metadata": {},
     "output_type": "execute_result"
    }
   ],
   "source": [
    "X.groupby('Self_Employed').ApplicantIncome.median()"
   ]
  },
  {
   "cell_type": "markdown",
   "metadata": {},
   "source": [
    "### Income doesn't helps in imputing missing values in Self Employed."
   ]
  },
  {
   "cell_type": "markdown",
   "metadata": {},
   "source": [
    "### Checking for majority in Self Employed staus"
   ]
  },
  {
   "cell_type": "code",
   "execution_count": 16,
   "metadata": {},
   "outputs": [
    {
     "data": {
      "text/plain": [
       "No     807\n",
       "Yes    119\n",
       "dtype: int64"
      ]
     },
     "execution_count": 16,
     "metadata": {},
     "output_type": "execute_result"
    }
   ],
   "source": [
    "pd.value_counts(X['Self_Employed'].values, sort=False)"
   ]
  },
  {
   "cell_type": "markdown",
   "metadata": {},
   "source": [
    "## Checking if Education plays a role in Self Employed..."
   ]
  },
  {
   "cell_type": "code",
   "execution_count": 17,
   "metadata": {},
   "outputs": [
    {
     "name": "stdout",
     "output_type": "stream",
     "text": [
      "Percentage of Non Self Employed Graduates :\n",
      "86.94444444444444\n"
     ]
    }
   ],
   "source": [
    "print('Percentage of Non Self Employed Graduates :')\n",
    "print((sum(X[X['Education']=='Graduate'].Self_Employed == 'No'))/sum((X[X['Education']=='Graduate'].Self_Employed.isnull()==False))*100)"
   ]
  },
  {
   "cell_type": "code",
   "execution_count": 18,
   "metadata": {},
   "outputs": [
    {
     "name": "stdout",
     "output_type": "stream",
     "text": [
      "Percentage of Non Self Employed Non Graduates :\n",
      "87.86407766990291\n"
     ]
    }
   ],
   "source": [
    "print('Percentage of Non Self Employed Non Graduates :')\n",
    "print((sum(X[X['Education']!='Graduate'].Self_Employed == 'No'))/sum((X[X['Education']!='Graduate'].Self_Employed.isnull()==False))*100)"
   ]
  },
  {
   "cell_type": "markdown",
   "metadata": {},
   "source": [
    "### No relation found...simply imputing majority to missing values"
   ]
  },
  {
   "cell_type": "code",
   "execution_count": 19,
   "metadata": {},
   "outputs": [],
   "source": [
    "X.Self_Employed.fillna('No',inplace=True)"
   ]
  },
  {
   "cell_type": "code",
   "execution_count": 20,
   "metadata": {},
   "outputs": [
    {
     "name": "stdout",
     "output_type": "stream",
     "text": [
      "<class 'pandas.core.frame.DataFrame'>\n",
      "RangeIndex: 981 entries, 0 to 980\n",
      "Data columns (total 12 columns):\n",
      "Loan_ID              981 non-null object\n",
      "Gender               957 non-null object\n",
      "Married              978 non-null object\n",
      "Dependents           956 non-null object\n",
      "Education            981 non-null object\n",
      "Self_Employed        981 non-null object\n",
      "ApplicantIncome      981 non-null int64\n",
      "CoapplicantIncome    981 non-null float64\n",
      "LoanAmount           954 non-null float64\n",
      "Loan_Amount_Term     961 non-null float64\n",
      "Credit_History       902 non-null float64\n",
      "Property_Area        981 non-null object\n",
      "dtypes: float64(4), int64(1), object(7)\n",
      "memory usage: 92.0+ KB\n"
     ]
    }
   ],
   "source": [
    "X.info()"
   ]
  },
  {
   "cell_type": "markdown",
   "metadata": {},
   "source": [
    "## Imputing missing values in Gender"
   ]
  },
  {
   "cell_type": "markdown",
   "metadata": {},
   "source": [
    "### Checking for any relation in mean median income and Gender"
   ]
  },
  {
   "cell_type": "code",
   "execution_count": 21,
   "metadata": {},
   "outputs": [
    {
     "data": {
      "text/plain": [
       "Gender\n",
       "Female       0.0\n",
       "Male      1411.0\n",
       "Name: CoapplicantIncome, dtype: float64"
      ]
     },
     "execution_count": 21,
     "metadata": {},
     "output_type": "execute_result"
    }
   ],
   "source": [
    "X.groupby('Gender').CoapplicantIncome.median()"
   ]
  },
  {
   "cell_type": "code",
   "execution_count": 22,
   "metadata": {},
   "outputs": [
    {
     "data": {
      "text/plain": [
       "Gender\n",
       "Female    1132.604396\n",
       "Male      1716.340542\n",
       "Name: CoapplicantIncome, dtype: float64"
      ]
     },
     "execution_count": 22,
     "metadata": {},
     "output_type": "execute_result"
    }
   ],
   "source": [
    "X.groupby('Gender').CoapplicantIncome.mean()"
   ]
  },
  {
   "cell_type": "markdown",
   "metadata": {},
   "source": [
    "### No relation found...Checking for majority"
   ]
  },
  {
   "cell_type": "code",
   "execution_count": 23,
   "metadata": {},
   "outputs": [
    {
     "data": {
      "text/plain": [
       "Female    182\n",
       "Male      775\n",
       "dtype: int64"
      ]
     },
     "execution_count": 23,
     "metadata": {},
     "output_type": "execute_result"
    }
   ],
   "source": [
    "pd.value_counts(X['Gender'].values, sort=False)"
   ]
  },
  {
   "cell_type": "markdown",
   "metadata": {},
   "source": [
    "### Is Coapplicant income 0 a determinant of Gender ?"
   ]
  },
  {
   "cell_type": "code",
   "execution_count": 24,
   "metadata": {},
   "outputs": [
    {
     "name": "stdout",
     "output_type": "stream",
     "text": [
      "Percentage of Female with 0 CoapplicantIncome:\n",
      "28.400954653937948\n"
     ]
    }
   ],
   "source": [
    "print('Percentage of Female with 0 CoapplicantIncome:')\n",
    "print((sum(X[X['CoapplicantIncome']==0].Gender == 'Female'))/sum((X[X['CoapplicantIncome']==0].Gender.isnull()==False))*100)"
   ]
  },
  {
   "cell_type": "code",
   "execution_count": 25,
   "metadata": {},
   "outputs": [
    {
     "name": "stdout",
     "output_type": "stream",
     "text": [
      "Percentage of Male with 0 CoapplicantIncome:\n",
      "71.59904534606206\n"
     ]
    }
   ],
   "source": [
    "print('Percentage of Male with 0 CoapplicantIncome:')\n",
    "print((sum(X[X['CoapplicantIncome']==0].Gender == 'Male'))/sum((X[X['CoapplicantIncome']==0].Gender.isnull()==False))*100)"
   ]
  },
  {
   "cell_type": "markdown",
   "metadata": {},
   "source": [
    "### No other relations found...imputing by majority"
   ]
  },
  {
   "cell_type": "code",
   "execution_count": 26,
   "metadata": {},
   "outputs": [],
   "source": [
    "X.Gender.fillna('Male',inplace=True)"
   ]
  },
  {
   "cell_type": "code",
   "execution_count": 27,
   "metadata": {},
   "outputs": [
    {
     "name": "stdout",
     "output_type": "stream",
     "text": [
      "<class 'pandas.core.frame.DataFrame'>\n",
      "RangeIndex: 981 entries, 0 to 980\n",
      "Data columns (total 12 columns):\n",
      "Loan_ID              981 non-null object\n",
      "Gender               981 non-null object\n",
      "Married              978 non-null object\n",
      "Dependents           956 non-null object\n",
      "Education            981 non-null object\n",
      "Self_Employed        981 non-null object\n",
      "ApplicantIncome      981 non-null int64\n",
      "CoapplicantIncome    981 non-null float64\n",
      "LoanAmount           954 non-null float64\n",
      "Loan_Amount_Term     961 non-null float64\n",
      "Credit_History       902 non-null float64\n",
      "Property_Area        981 non-null object\n",
      "dtypes: float64(4), int64(1), object(7)\n",
      "memory usage: 92.0+ KB\n"
     ]
    }
   ],
   "source": [
    "X.info()"
   ]
  },
  {
   "cell_type": "markdown",
   "metadata": {},
   "source": [
    "## Imputing Married status"
   ]
  },
  {
   "cell_type": "code",
   "execution_count": 28,
   "metadata": {},
   "outputs": [
    {
     "data": {
      "text/plain": [
       "No     347\n",
       "Yes    631\n",
       "dtype: int64"
      ]
     },
     "execution_count": 28,
     "metadata": {},
     "output_type": "execute_result"
    }
   ],
   "source": [
    "pd.value_counts(X['Married'].values, sort=False)"
   ]
  },
  {
   "cell_type": "code",
   "execution_count": 29,
   "metadata": {},
   "outputs": [
    {
     "data": {
      "text/html": [
       "<div>\n",
       "<style scoped>\n",
       "    .dataframe tbody tr th:only-of-type {\n",
       "        vertical-align: middle;\n",
       "    }\n",
       "\n",
       "    .dataframe tbody tr th {\n",
       "        vertical-align: top;\n",
       "    }\n",
       "\n",
       "    .dataframe thead th {\n",
       "        text-align: right;\n",
       "    }\n",
       "</style>\n",
       "<table border=\"1\" class=\"dataframe\">\n",
       "  <thead>\n",
       "    <tr style=\"text-align: right;\">\n",
       "      <th></th>\n",
       "      <th>Loan_ID</th>\n",
       "      <th>Gender</th>\n",
       "      <th>Married</th>\n",
       "      <th>Dependents</th>\n",
       "      <th>Education</th>\n",
       "      <th>Self_Employed</th>\n",
       "      <th>ApplicantIncome</th>\n",
       "      <th>CoapplicantIncome</th>\n",
       "      <th>LoanAmount</th>\n",
       "      <th>Loan_Amount_Term</th>\n",
       "      <th>Credit_History</th>\n",
       "      <th>Property_Area</th>\n",
       "    </tr>\n",
       "  </thead>\n",
       "  <tbody>\n",
       "    <tr>\n",
       "      <th>104</th>\n",
       "      <td>LP001357</td>\n",
       "      <td>Male</td>\n",
       "      <td>NaN</td>\n",
       "      <td>NaN</td>\n",
       "      <td>Graduate</td>\n",
       "      <td>No</td>\n",
       "      <td>3816</td>\n",
       "      <td>754.0</td>\n",
       "      <td>160.0</td>\n",
       "      <td>360.0</td>\n",
       "      <td>1.0</td>\n",
       "      <td>Urban</td>\n",
       "    </tr>\n",
       "    <tr>\n",
       "      <th>228</th>\n",
       "      <td>LP001760</td>\n",
       "      <td>Male</td>\n",
       "      <td>NaN</td>\n",
       "      <td>NaN</td>\n",
       "      <td>Graduate</td>\n",
       "      <td>No</td>\n",
       "      <td>4758</td>\n",
       "      <td>0.0</td>\n",
       "      <td>158.0</td>\n",
       "      <td>480.0</td>\n",
       "      <td>1.0</td>\n",
       "      <td>Semiurban</td>\n",
       "    </tr>\n",
       "    <tr>\n",
       "      <th>435</th>\n",
       "      <td>LP002393</td>\n",
       "      <td>Female</td>\n",
       "      <td>NaN</td>\n",
       "      <td>NaN</td>\n",
       "      <td>Graduate</td>\n",
       "      <td>No</td>\n",
       "      <td>10047</td>\n",
       "      <td>0.0</td>\n",
       "      <td>NaN</td>\n",
       "      <td>240.0</td>\n",
       "      <td>1.0</td>\n",
       "      <td>Semiurban</td>\n",
       "    </tr>\n",
       "  </tbody>\n",
       "</table>\n",
       "</div>"
      ],
      "text/plain": [
       "      Loan_ID  Gender Married Dependents Education Self_Employed  \\\n",
       "104  LP001357    Male     NaN        NaN  Graduate            No   \n",
       "228  LP001760    Male     NaN        NaN  Graduate            No   \n",
       "435  LP002393  Female     NaN        NaN  Graduate            No   \n",
       "\n",
       "     ApplicantIncome  CoapplicantIncome  LoanAmount  Loan_Amount_Term  \\\n",
       "104             3816              754.0       160.0             360.0   \n",
       "228             4758                0.0       158.0             480.0   \n",
       "435            10047                0.0         NaN             240.0   \n",
       "\n",
       "     Credit_History Property_Area  \n",
       "104             1.0         Urban  \n",
       "228             1.0     Semiurban  \n",
       "435             1.0     Semiurban  "
      ]
     },
     "execution_count": 29,
     "metadata": {},
     "output_type": "execute_result"
    }
   ],
   "source": [
    "X[X.Married.isnull()]"
   ]
  },
  {
   "cell_type": "markdown",
   "metadata": {},
   "source": [
    "## Is Number of Dependants a measure of Married Status"
   ]
  },
  {
   "cell_type": "markdown",
   "metadata": {},
   "source": [
    "### imputing missing dependants with majority"
   ]
  },
  {
   "cell_type": "code",
   "execution_count": 30,
   "metadata": {},
   "outputs": [],
   "source": [
    "X.Dependents.fillna(0,inplace=True)"
   ]
  },
  {
   "cell_type": "code",
   "execution_count": 31,
   "metadata": {},
   "outputs": [
    {
     "data": {
      "text/plain": [
       "0      25\n",
       "3+     91\n",
       "2     160\n",
       "0     545\n",
       "1     160\n",
       "dtype: int64"
      ]
     },
     "execution_count": 31,
     "metadata": {},
     "output_type": "execute_result"
    }
   ],
   "source": [
    "pd.value_counts(X['Dependents'].values, sort=False)"
   ]
  },
  {
   "cell_type": "code",
   "execution_count": 32,
   "metadata": {},
   "outputs": [
    {
     "data": {
      "text/plain": [
       "Rural        290\n",
       "Semiurban    349\n",
       "Urban        342\n",
       "dtype: int64"
      ]
     },
     "execution_count": 32,
     "metadata": {},
     "output_type": "execute_result"
    }
   ],
   "source": [
    "pd.value_counts(X['Property_Area'].values, sort=False)"
   ]
  },
  {
   "cell_type": "markdown",
   "metadata": {},
   "source": [
    "### Imputing married status by majority"
   ]
  },
  {
   "cell_type": "code",
   "execution_count": 33,
   "metadata": {},
   "outputs": [],
   "source": [
    "X.Married.fillna('Yes',inplace=True)"
   ]
  },
  {
   "cell_type": "markdown",
   "metadata": {},
   "source": [
    "### Imputing Credit_History by majority"
   ]
  },
  {
   "cell_type": "code",
   "execution_count": 34,
   "metadata": {},
   "outputs": [],
   "source": [
    "X.Credit_History.fillna(1,inplace=True)"
   ]
  },
  {
   "cell_type": "code",
   "execution_count": 35,
   "metadata": {},
   "outputs": [
    {
     "name": "stdout",
     "output_type": "stream",
     "text": [
      "<class 'pandas.core.frame.DataFrame'>\n",
      "RangeIndex: 981 entries, 0 to 980\n",
      "Data columns (total 12 columns):\n",
      "Loan_ID              981 non-null object\n",
      "Gender               981 non-null object\n",
      "Married              981 non-null object\n",
      "Dependents           981 non-null object\n",
      "Education            981 non-null object\n",
      "Self_Employed        981 non-null object\n",
      "ApplicantIncome      981 non-null int64\n",
      "CoapplicantIncome    981 non-null float64\n",
      "LoanAmount           954 non-null float64\n",
      "Loan_Amount_Term     961 non-null float64\n",
      "Credit_History       981 non-null float64\n",
      "Property_Area        981 non-null object\n",
      "dtypes: float64(4), int64(1), object(7)\n",
      "memory usage: 92.0+ KB\n"
     ]
    }
   ],
   "source": [
    "X.info()"
   ]
  },
  {
   "cell_type": "markdown",
   "metadata": {},
   "source": [
    "## Replacing Label parameters with numerics"
   ]
  },
  {
   "cell_type": "code",
   "execution_count": 36,
   "metadata": {},
   "outputs": [],
   "source": [
    "cleanup_nums = {\"Gender\":     {\"Male\": 1, \"Female\": 0},\n",
    "                \"Married\": {\"Yes\": 1, \"No\": 0},\n",
    "                \"Dependents\": {'0': 0, '1': 1, '2' : 2, '3+' : 3},\n",
    "                \"Education\": {\"Graduate\": 1, \"Not Graduate\": 0},\n",
    "                \"Self_Employed\": {\"Yes\": 1, \"No\": 0},\n",
    "                \"Loan_Status\": {'Y':1,'N':0},\n",
    "                \"Property_Area\": {'Rural':1,'Semiurban':2,'Urban':3}\n",
    "               }\n",
    "cleanup = {\"Loan_Status\": {'Y':1,'N':0}}\n",
    "X.replace(cleanup_nums, inplace=True)\n",
    "data.replace(cleanup, inplace=True)\n",
    "y = data.Loan_Status"
   ]
  },
  {
   "cell_type": "code",
   "execution_count": 37,
   "metadata": {},
   "outputs": [
    {
     "name": "stdout",
     "output_type": "stream",
     "text": [
      "<class 'pandas.core.frame.DataFrame'>\n",
      "RangeIndex: 981 entries, 0 to 980\n",
      "Data columns (total 12 columns):\n",
      "Loan_ID              981 non-null object\n",
      "Gender               981 non-null int64\n",
      "Married              981 non-null int64\n",
      "Dependents           981 non-null int64\n",
      "Education            981 non-null int64\n",
      "Self_Employed        981 non-null int64\n",
      "ApplicantIncome      981 non-null int64\n",
      "CoapplicantIncome    981 non-null float64\n",
      "LoanAmount           954 non-null float64\n",
      "Loan_Amount_Term     961 non-null float64\n",
      "Credit_History       981 non-null float64\n",
      "Property_Area        981 non-null int64\n",
      "dtypes: float64(4), int64(7), object(1)\n",
      "memory usage: 92.0+ KB\n"
     ]
    }
   ],
   "source": [
    "X.info()"
   ]
  },
  {
   "cell_type": "markdown",
   "metadata": {},
   "source": [
    "## Loan ID has no relation to Loan Status...dropping the same"
   ]
  },
  {
   "cell_type": "code",
   "execution_count": 38,
   "metadata": {},
   "outputs": [],
   "source": [
    "X.drop(['Loan_ID'], axis=1, inplace=True)"
   ]
  },
  {
   "cell_type": "markdown",
   "metadata": {},
   "source": [
    "## Carrying out mean imputation for continuous variables"
   ]
  },
  {
   "cell_type": "code",
   "execution_count": 39,
   "metadata": {},
   "outputs": [],
   "source": [
    "imp = preprocessing.Imputer()\n",
    "X = imp.fit_transform(X)"
   ]
  },
  {
   "cell_type": "code",
   "execution_count": 40,
   "metadata": {},
   "outputs": [],
   "source": [
    "X = pd.DataFrame(X)"
   ]
  },
  {
   "cell_type": "code",
   "execution_count": 41,
   "metadata": {},
   "outputs": [
    {
     "data": {
      "text/html": [
       "<div>\n",
       "<style scoped>\n",
       "    .dataframe tbody tr th:only-of-type {\n",
       "        vertical-align: middle;\n",
       "    }\n",
       "\n",
       "    .dataframe tbody tr th {\n",
       "        vertical-align: top;\n",
       "    }\n",
       "\n",
       "    .dataframe thead th {\n",
       "        text-align: right;\n",
       "    }\n",
       "</style>\n",
       "<table border=\"1\" class=\"dataframe\">\n",
       "  <thead>\n",
       "    <tr style=\"text-align: right;\">\n",
       "      <th></th>\n",
       "      <th>Gender</th>\n",
       "      <th>Married</th>\n",
       "      <th>Dependents</th>\n",
       "      <th>Education</th>\n",
       "      <th>Self_Employed</th>\n",
       "      <th>ApplicantIncome</th>\n",
       "      <th>CoapplicantIncome</th>\n",
       "      <th>LoanAmount</th>\n",
       "      <th>Loan_Amount_Term</th>\n",
       "      <th>Credit_History</th>\n",
       "      <th>Property_Area</th>\n",
       "    </tr>\n",
       "  </thead>\n",
       "  <tbody>\n",
       "    <tr>\n",
       "      <th>0</th>\n",
       "      <td>1.0</td>\n",
       "      <td>0.0</td>\n",
       "      <td>0.0</td>\n",
       "      <td>1.0</td>\n",
       "      <td>0.0</td>\n",
       "      <td>5849.0</td>\n",
       "      <td>0.0</td>\n",
       "      <td>142.51153</td>\n",
       "      <td>360.000000</td>\n",
       "      <td>1.0</td>\n",
       "      <td>3.0</td>\n",
       "    </tr>\n",
       "    <tr>\n",
       "      <th>1</th>\n",
       "      <td>1.0</td>\n",
       "      <td>1.0</td>\n",
       "      <td>1.0</td>\n",
       "      <td>1.0</td>\n",
       "      <td>0.0</td>\n",
       "      <td>4583.0</td>\n",
       "      <td>1508.0</td>\n",
       "      <td>128.00000</td>\n",
       "      <td>360.000000</td>\n",
       "      <td>1.0</td>\n",
       "      <td>1.0</td>\n",
       "    </tr>\n",
       "    <tr>\n",
       "      <th>2</th>\n",
       "      <td>1.0</td>\n",
       "      <td>1.0</td>\n",
       "      <td>0.0</td>\n",
       "      <td>1.0</td>\n",
       "      <td>1.0</td>\n",
       "      <td>3000.0</td>\n",
       "      <td>0.0</td>\n",
       "      <td>66.00000</td>\n",
       "      <td>360.000000</td>\n",
       "      <td>1.0</td>\n",
       "      <td>3.0</td>\n",
       "    </tr>\n",
       "    <tr>\n",
       "      <th>3</th>\n",
       "      <td>1.0</td>\n",
       "      <td>1.0</td>\n",
       "      <td>0.0</td>\n",
       "      <td>0.0</td>\n",
       "      <td>0.0</td>\n",
       "      <td>2583.0</td>\n",
       "      <td>2358.0</td>\n",
       "      <td>120.00000</td>\n",
       "      <td>360.000000</td>\n",
       "      <td>1.0</td>\n",
       "      <td>3.0</td>\n",
       "    </tr>\n",
       "    <tr>\n",
       "      <th>4</th>\n",
       "      <td>1.0</td>\n",
       "      <td>0.0</td>\n",
       "      <td>0.0</td>\n",
       "      <td>1.0</td>\n",
       "      <td>0.0</td>\n",
       "      <td>6000.0</td>\n",
       "      <td>0.0</td>\n",
       "      <td>141.00000</td>\n",
       "      <td>360.000000</td>\n",
       "      <td>1.0</td>\n",
       "      <td>3.0</td>\n",
       "    </tr>\n",
       "    <tr>\n",
       "      <th>5</th>\n",
       "      <td>1.0</td>\n",
       "      <td>1.0</td>\n",
       "      <td>2.0</td>\n",
       "      <td>1.0</td>\n",
       "      <td>1.0</td>\n",
       "      <td>5417.0</td>\n",
       "      <td>4196.0</td>\n",
       "      <td>267.00000</td>\n",
       "      <td>360.000000</td>\n",
       "      <td>1.0</td>\n",
       "      <td>3.0</td>\n",
       "    </tr>\n",
       "    <tr>\n",
       "      <th>6</th>\n",
       "      <td>1.0</td>\n",
       "      <td>1.0</td>\n",
       "      <td>0.0</td>\n",
       "      <td>0.0</td>\n",
       "      <td>0.0</td>\n",
       "      <td>2333.0</td>\n",
       "      <td>1516.0</td>\n",
       "      <td>95.00000</td>\n",
       "      <td>360.000000</td>\n",
       "      <td>1.0</td>\n",
       "      <td>3.0</td>\n",
       "    </tr>\n",
       "    <tr>\n",
       "      <th>7</th>\n",
       "      <td>1.0</td>\n",
       "      <td>1.0</td>\n",
       "      <td>3.0</td>\n",
       "      <td>1.0</td>\n",
       "      <td>0.0</td>\n",
       "      <td>3036.0</td>\n",
       "      <td>2504.0</td>\n",
       "      <td>158.00000</td>\n",
       "      <td>360.000000</td>\n",
       "      <td>0.0</td>\n",
       "      <td>2.0</td>\n",
       "    </tr>\n",
       "    <tr>\n",
       "      <th>8</th>\n",
       "      <td>1.0</td>\n",
       "      <td>1.0</td>\n",
       "      <td>2.0</td>\n",
       "      <td>1.0</td>\n",
       "      <td>0.0</td>\n",
       "      <td>4006.0</td>\n",
       "      <td>1526.0</td>\n",
       "      <td>168.00000</td>\n",
       "      <td>360.000000</td>\n",
       "      <td>1.0</td>\n",
       "      <td>3.0</td>\n",
       "    </tr>\n",
       "    <tr>\n",
       "      <th>9</th>\n",
       "      <td>1.0</td>\n",
       "      <td>1.0</td>\n",
       "      <td>1.0</td>\n",
       "      <td>1.0</td>\n",
       "      <td>0.0</td>\n",
       "      <td>12841.0</td>\n",
       "      <td>10968.0</td>\n",
       "      <td>349.00000</td>\n",
       "      <td>360.000000</td>\n",
       "      <td>1.0</td>\n",
       "      <td>2.0</td>\n",
       "    </tr>\n",
       "    <tr>\n",
       "      <th>10</th>\n",
       "      <td>1.0</td>\n",
       "      <td>1.0</td>\n",
       "      <td>2.0</td>\n",
       "      <td>1.0</td>\n",
       "      <td>0.0</td>\n",
       "      <td>3200.0</td>\n",
       "      <td>700.0</td>\n",
       "      <td>70.00000</td>\n",
       "      <td>360.000000</td>\n",
       "      <td>1.0</td>\n",
       "      <td>3.0</td>\n",
       "    </tr>\n",
       "    <tr>\n",
       "      <th>11</th>\n",
       "      <td>1.0</td>\n",
       "      <td>1.0</td>\n",
       "      <td>2.0</td>\n",
       "      <td>1.0</td>\n",
       "      <td>0.0</td>\n",
       "      <td>2500.0</td>\n",
       "      <td>1840.0</td>\n",
       "      <td>109.00000</td>\n",
       "      <td>360.000000</td>\n",
       "      <td>1.0</td>\n",
       "      <td>3.0</td>\n",
       "    </tr>\n",
       "    <tr>\n",
       "      <th>12</th>\n",
       "      <td>1.0</td>\n",
       "      <td>1.0</td>\n",
       "      <td>2.0</td>\n",
       "      <td>1.0</td>\n",
       "      <td>0.0</td>\n",
       "      <td>3073.0</td>\n",
       "      <td>8106.0</td>\n",
       "      <td>200.00000</td>\n",
       "      <td>360.000000</td>\n",
       "      <td>1.0</td>\n",
       "      <td>3.0</td>\n",
       "    </tr>\n",
       "    <tr>\n",
       "      <th>13</th>\n",
       "      <td>1.0</td>\n",
       "      <td>0.0</td>\n",
       "      <td>0.0</td>\n",
       "      <td>1.0</td>\n",
       "      <td>0.0</td>\n",
       "      <td>1853.0</td>\n",
       "      <td>2840.0</td>\n",
       "      <td>114.00000</td>\n",
       "      <td>360.000000</td>\n",
       "      <td>1.0</td>\n",
       "      <td>1.0</td>\n",
       "    </tr>\n",
       "    <tr>\n",
       "      <th>14</th>\n",
       "      <td>1.0</td>\n",
       "      <td>1.0</td>\n",
       "      <td>2.0</td>\n",
       "      <td>1.0</td>\n",
       "      <td>0.0</td>\n",
       "      <td>1299.0</td>\n",
       "      <td>1086.0</td>\n",
       "      <td>17.00000</td>\n",
       "      <td>120.000000</td>\n",
       "      <td>1.0</td>\n",
       "      <td>3.0</td>\n",
       "    </tr>\n",
       "    <tr>\n",
       "      <th>15</th>\n",
       "      <td>1.0</td>\n",
       "      <td>0.0</td>\n",
       "      <td>0.0</td>\n",
       "      <td>1.0</td>\n",
       "      <td>0.0</td>\n",
       "      <td>4950.0</td>\n",
       "      <td>0.0</td>\n",
       "      <td>125.00000</td>\n",
       "      <td>360.000000</td>\n",
       "      <td>1.0</td>\n",
       "      <td>3.0</td>\n",
       "    </tr>\n",
       "    <tr>\n",
       "      <th>16</th>\n",
       "      <td>1.0</td>\n",
       "      <td>0.0</td>\n",
       "      <td>1.0</td>\n",
       "      <td>0.0</td>\n",
       "      <td>0.0</td>\n",
       "      <td>3596.0</td>\n",
       "      <td>0.0</td>\n",
       "      <td>100.00000</td>\n",
       "      <td>240.000000</td>\n",
       "      <td>1.0</td>\n",
       "      <td>3.0</td>\n",
       "    </tr>\n",
       "    <tr>\n",
       "      <th>17</th>\n",
       "      <td>0.0</td>\n",
       "      <td>0.0</td>\n",
       "      <td>0.0</td>\n",
       "      <td>1.0</td>\n",
       "      <td>0.0</td>\n",
       "      <td>3510.0</td>\n",
       "      <td>0.0</td>\n",
       "      <td>76.00000</td>\n",
       "      <td>360.000000</td>\n",
       "      <td>0.0</td>\n",
       "      <td>3.0</td>\n",
       "    </tr>\n",
       "    <tr>\n",
       "      <th>18</th>\n",
       "      <td>1.0</td>\n",
       "      <td>1.0</td>\n",
       "      <td>0.0</td>\n",
       "      <td>0.0</td>\n",
       "      <td>0.0</td>\n",
       "      <td>4887.0</td>\n",
       "      <td>0.0</td>\n",
       "      <td>133.00000</td>\n",
       "      <td>360.000000</td>\n",
       "      <td>1.0</td>\n",
       "      <td>1.0</td>\n",
       "    </tr>\n",
       "    <tr>\n",
       "      <th>19</th>\n",
       "      <td>1.0</td>\n",
       "      <td>1.0</td>\n",
       "      <td>0.0</td>\n",
       "      <td>1.0</td>\n",
       "      <td>0.0</td>\n",
       "      <td>2600.0</td>\n",
       "      <td>3500.0</td>\n",
       "      <td>115.00000</td>\n",
       "      <td>342.201873</td>\n",
       "      <td>1.0</td>\n",
       "      <td>3.0</td>\n",
       "    </tr>\n",
       "  </tbody>\n",
       "</table>\n",
       "</div>"
      ],
      "text/plain": [
       "    Gender  Married  Dependents  Education  Self_Employed  ApplicantIncome  \\\n",
       "0      1.0      0.0         0.0        1.0            0.0           5849.0   \n",
       "1      1.0      1.0         1.0        1.0            0.0           4583.0   \n",
       "2      1.0      1.0         0.0        1.0            1.0           3000.0   \n",
       "3      1.0      1.0         0.0        0.0            0.0           2583.0   \n",
       "4      1.0      0.0         0.0        1.0            0.0           6000.0   \n",
       "5      1.0      1.0         2.0        1.0            1.0           5417.0   \n",
       "6      1.0      1.0         0.0        0.0            0.0           2333.0   \n",
       "7      1.0      1.0         3.0        1.0            0.0           3036.0   \n",
       "8      1.0      1.0         2.0        1.0            0.0           4006.0   \n",
       "9      1.0      1.0         1.0        1.0            0.0          12841.0   \n",
       "10     1.0      1.0         2.0        1.0            0.0           3200.0   \n",
       "11     1.0      1.0         2.0        1.0            0.0           2500.0   \n",
       "12     1.0      1.0         2.0        1.0            0.0           3073.0   \n",
       "13     1.0      0.0         0.0        1.0            0.0           1853.0   \n",
       "14     1.0      1.0         2.0        1.0            0.0           1299.0   \n",
       "15     1.0      0.0         0.0        1.0            0.0           4950.0   \n",
       "16     1.0      0.0         1.0        0.0            0.0           3596.0   \n",
       "17     0.0      0.0         0.0        1.0            0.0           3510.0   \n",
       "18     1.0      1.0         0.0        0.0            0.0           4887.0   \n",
       "19     1.0      1.0         0.0        1.0            0.0           2600.0   \n",
       "\n",
       "    CoapplicantIncome  LoanAmount  Loan_Amount_Term  Credit_History  \\\n",
       "0                 0.0   142.51153        360.000000             1.0   \n",
       "1              1508.0   128.00000        360.000000             1.0   \n",
       "2                 0.0    66.00000        360.000000             1.0   \n",
       "3              2358.0   120.00000        360.000000             1.0   \n",
       "4                 0.0   141.00000        360.000000             1.0   \n",
       "5              4196.0   267.00000        360.000000             1.0   \n",
       "6              1516.0    95.00000        360.000000             1.0   \n",
       "7              2504.0   158.00000        360.000000             0.0   \n",
       "8              1526.0   168.00000        360.000000             1.0   \n",
       "9             10968.0   349.00000        360.000000             1.0   \n",
       "10              700.0    70.00000        360.000000             1.0   \n",
       "11             1840.0   109.00000        360.000000             1.0   \n",
       "12             8106.0   200.00000        360.000000             1.0   \n",
       "13             2840.0   114.00000        360.000000             1.0   \n",
       "14             1086.0    17.00000        120.000000             1.0   \n",
       "15                0.0   125.00000        360.000000             1.0   \n",
       "16                0.0   100.00000        240.000000             1.0   \n",
       "17                0.0    76.00000        360.000000             0.0   \n",
       "18                0.0   133.00000        360.000000             1.0   \n",
       "19             3500.0   115.00000        342.201873             1.0   \n",
       "\n",
       "    Property_Area  \n",
       "0             3.0  \n",
       "1             1.0  \n",
       "2             3.0  \n",
       "3             3.0  \n",
       "4             3.0  \n",
       "5             3.0  \n",
       "6             3.0  \n",
       "7             2.0  \n",
       "8             3.0  \n",
       "9             2.0  \n",
       "10            3.0  \n",
       "11            3.0  \n",
       "12            3.0  \n",
       "13            1.0  \n",
       "14            3.0  \n",
       "15            3.0  \n",
       "16            3.0  \n",
       "17            3.0  \n",
       "18            1.0  \n",
       "19            3.0  "
      ]
     },
     "execution_count": 41,
     "metadata": {},
     "output_type": "execute_result"
    }
   ],
   "source": [
    "X.columns = ['Gender','Married','Dependents','Education','Self_Employed','ApplicantIncome','CoapplicantIncome','LoanAmount','Loan_Amount_Term','Credit_History','Property_Area']\n",
    "X.head(20)"
   ]
  },
  {
   "cell_type": "code",
   "execution_count": 42,
   "metadata": {},
   "outputs": [
    {
     "name": "stdout",
     "output_type": "stream",
     "text": [
      "<class 'pandas.core.frame.DataFrame'>\n",
      "RangeIndex: 981 entries, 0 to 980\n",
      "Data columns (total 11 columns):\n",
      "Gender               981 non-null float64\n",
      "Married              981 non-null float64\n",
      "Dependents           981 non-null float64\n",
      "Education            981 non-null float64\n",
      "Self_Employed        981 non-null float64\n",
      "ApplicantIncome      981 non-null float64\n",
      "CoapplicantIncome    981 non-null float64\n",
      "LoanAmount           981 non-null float64\n",
      "Loan_Amount_Term     981 non-null float64\n",
      "Credit_History       981 non-null float64\n",
      "Property_Area        981 non-null float64\n",
      "dtypes: float64(11)\n",
      "memory usage: 84.4 KB\n"
     ]
    }
   ],
   "source": [
    "X.info()"
   ]
  },
  {
   "cell_type": "markdown",
   "metadata": {},
   "source": [
    "## Train test split"
   ]
  },
  {
   "cell_type": "code",
   "execution_count": 43,
   "metadata": {},
   "outputs": [],
   "source": [
    "X_train, X_test, y_train, y_test = train_test_split(X, y, \n",
    "                                                    test_size=0.2, \n",
    "                                                    random_state=123, \n",
    "                                                    stratify=y)"
   ]
  },
  {
   "cell_type": "markdown",
   "metadata": {},
   "source": [
    "## Naive Bayes"
   ]
  },
  {
   "cell_type": "code",
   "execution_count": 44,
   "metadata": {},
   "outputs": [
    {
     "data": {
      "text/plain": [
       "GaussianNB(priors=None)"
      ]
     },
     "execution_count": 44,
     "metadata": {},
     "output_type": "execute_result"
    }
   ],
   "source": [
    "from sklearn.naive_bayes import GaussianNB\n",
    "\n",
    "# create Gaussian Naive Bayes model object and train it with the data\n",
    "nb_model = GaussianNB()\n",
    "\n",
    "nb_model.fit(X_train, y_train.ravel())"
   ]
  },
  {
   "cell_type": "code",
   "execution_count": 45,
   "metadata": {},
   "outputs": [
    {
     "name": "stdout",
     "output_type": "stream",
     "text": [
      "Accuracy: 0.8528\n",
      "\n",
      "Classification Report\n",
      "             precision    recall  f1-score   support\n",
      "\n",
      "          0       0.87      0.52      0.65        52\n",
      "          1       0.85      0.97      0.91       145\n",
      "\n",
      "avg / total       0.86      0.85      0.84       197\n",
      "\n"
     ]
    }
   ],
   "source": [
    "# predict values using the training data\n",
    "nb_predict_test = nb_model.predict(X_test)\n",
    "\n",
    "# import the performance metrics library\n",
    "from sklearn import metrics\n",
    "\n",
    "# Accuracy\n",
    "print(\"Accuracy: {0:.4f}\".format(metrics.accuracy_score(y_test, nb_predict_test)))\n",
    "print()\n",
    "print(\"Classification Report\")\n",
    "print(metrics.classification_report(y_test, nb_predict_test))"
   ]
  },
  {
   "cell_type": "markdown",
   "metadata": {},
   "source": [
    "## Random Forest Classifier"
   ]
  },
  {
   "cell_type": "code",
   "execution_count": 46,
   "metadata": {},
   "outputs": [
    {
     "data": {
      "text/plain": [
       "RandomForestClassifier(bootstrap=True, class_weight=None, criterion='gini',\n",
       "            max_depth=None, max_features='auto', max_leaf_nodes=None,\n",
       "            min_impurity_decrease=0.0, min_impurity_split=None,\n",
       "            min_samples_leaf=1, min_samples_split=2,\n",
       "            min_weight_fraction_leaf=0.0, n_estimators=10, n_jobs=1,\n",
       "            oob_score=False, random_state=42, verbose=0, warm_start=False)"
      ]
     },
     "execution_count": 46,
     "metadata": {},
     "output_type": "execute_result"
    }
   ],
   "source": [
    "from sklearn.ensemble import RandomForestClassifier\n",
    "rf_model = RandomForestClassifier(random_state=42)      # Create random forest object\n",
    "rf_model.fit(X_train, y_train.ravel()) "
   ]
  },
  {
   "cell_type": "code",
   "execution_count": 47,
   "metadata": {},
   "outputs": [
    {
     "name": "stdout",
     "output_type": "stream",
     "text": [
      "Accuracy: 0.8173\n",
      "ROC AUC Score : 0.7279\n"
     ]
    }
   ],
   "source": [
    "rf_predict_test = rf_model.predict(X_test)\n",
    "\n",
    "# training metrics\n",
    "print(\"Accuracy: {0:.4f}\".format(metrics.accuracy_score(y_test, rf_predict_test)))\n",
    "print(\"ROC AUC Score : {0:.4f}\".format(roc_auc_score(y_test, rf_predict_test)))"
   ]
  },
  {
   "cell_type": "code",
   "execution_count": 48,
   "metadata": {},
   "outputs": [
    {
     "name": "stdout",
     "output_type": "stream",
     "text": [
      "[[ 28  24]\n",
      " [ 12 133]]\n",
      "\n",
      "Classification Report\n",
      "             precision    recall  f1-score   support\n",
      "\n",
      "          0       0.70      0.54      0.61        52\n",
      "          1       0.85      0.92      0.88       145\n",
      "\n",
      "avg / total       0.81      0.82      0.81       197\n",
      "\n"
     ]
    }
   ],
   "source": [
    "print(metrics.confusion_matrix(y_test, rf_predict_test) )\n",
    "print(\"\")\n",
    "print(\"Classification Report\")\n",
    "print(metrics.classification_report(y_test, rf_predict_test))"
   ]
  },
  {
   "cell_type": "markdown",
   "metadata": {},
   "source": [
    "### Using grid search to find best hyper parameters for Random Forest"
   ]
  },
  {
   "cell_type": "code",
   "execution_count": 49,
   "metadata": {},
   "outputs": [
    {
     "name": "stdout",
     "output_type": "stream",
     "text": [
      "Fitting 3 folds for each of 288 candidates, totalling 864 fits\n"
     ]
    },
    {
     "name": "stderr",
     "output_type": "stream",
     "text": [
      "[Parallel(n_jobs=-1)]: Done  33 tasks      | elapsed:   13.4s\n",
      "[Parallel(n_jobs=-1)]: Done 154 tasks      | elapsed:   50.6s\n",
      "[Parallel(n_jobs=-1)]: Done 357 tasks      | elapsed:  1.9min\n",
      "[Parallel(n_jobs=-1)]: Done 640 tasks      | elapsed:  3.5min\n",
      "[Parallel(n_jobs=-1)]: Done 864 out of 864 | elapsed:  4.7min finished\n"
     ]
    },
    {
     "data": {
      "text/plain": [
       "{'bootstrap': True,\n",
       " 'max_depth': 80,\n",
       " 'max_features': 3,\n",
       " 'min_samples_leaf': 3,\n",
       " 'min_samples_split': 8,\n",
       " 'n_estimators': 200}"
      ]
     },
     "execution_count": 49,
     "metadata": {},
     "output_type": "execute_result"
    }
   ],
   "source": [
    "param_grid = {\n",
    "    'bootstrap': [True],\n",
    "    'max_depth': [80, 90, 100, 110],\n",
    "    'max_features': [2, 3],\n",
    "    'min_samples_leaf': [3, 4, 5],\n",
    "    'min_samples_split': [8, 10, 12],\n",
    "    'n_estimators': [100, 200, 300, 1000]\n",
    "}\n",
    "# Create a based model\n",
    "rf = RandomForestClassifier(random_state=42)\n",
    "# Instantiate the grid search model\n",
    "grid_search = GridSearchCV(estimator = rf, param_grid = param_grid, \n",
    "                          cv = 3, n_jobs = -1, verbose = 2)\n",
    "grid_search.fit(X_train, y_train.ravel())\n",
    "grid_search.best_params_"
   ]
  },
  {
   "cell_type": "code",
   "execution_count": 50,
   "metadata": {},
   "outputs": [
    {
     "name": "stdout",
     "output_type": "stream",
     "text": [
      "Accuracy of the RF on test set: 0.853\n",
      "Classification Report\n",
      "             precision    recall  f1-score   support\n",
      "\n",
      "          0       0.93      0.48      0.63        52\n",
      "          1       0.84      0.99      0.91       145\n",
      "\n",
      "avg / total       0.86      0.85      0.84       197\n",
      "\n",
      "0.9862068965517241\n",
      "ROC AUC Score : 0.7335\n"
     ]
    }
   ],
   "source": [
    "best_model = grid_search.best_estimator_\n",
    "pred = best_model.predict(X_test)\n",
    "print('Accuracy of the RF on test set: {:.3f}'.format(best_model.score(X_test, y_test)))\n",
    "pred=best_model.predict(X_test)\n",
    "print(\"Classification Report\")\n",
    "print(metrics.classification_report(y_test, pred))\n",
    "print(metrics.recall_score(y_test, pred))\n",
    "print(\"ROC AUC Score : {0:.4f}\".format(roc_auc_score(y_test, pred)))"
   ]
  },
  {
   "cell_type": "markdown",
   "metadata": {},
   "source": [
    "### Visualisation of important features"
   ]
  },
  {
   "cell_type": "code",
   "execution_count": 51,
   "metadata": {},
   "outputs": [
    {
     "data": {
      "text/plain": [
       "Text(0,0.5,'Feature Importance Score')"
      ]
     },
     "execution_count": 51,
     "metadata": {},
     "output_type": "execute_result"
    },
    {
     "data": {
      "image/png": "[encoded data removed]",
      "text/plain": [
       "<Figure size 432x288 with 1 Axes>"
      ]
     },
     "metadata": {},
     "output_type": "display_data"
    }
   ],
   "source": [
    "predictors=list(X_train)\n",
    "feat_imp = pd.Series(best_model.feature_importances_, predictors).sort_values(ascending=False)\n",
    "feat_imp.plot(kind='bar', title='Importance of Features')\n",
    "plt.ylabel('Feature Importance Score')"
   ]
  },
  {
   "cell_type": "markdown",
   "metadata": {},
   "source": [
    "## Logistic Regression"
   ]
  },
  {
   "cell_type": "code",
   "execution_count": 52,
   "metadata": {},
   "outputs": [
    {
     "name": "stdout",
     "output_type": "stream",
     "text": [
      "Accuracy: 0.8528\n",
      "[[ 25  27]\n",
      " [  2 143]]\n",
      "\n",
      "Classification Report\n",
      "             precision    recall  f1-score   support\n",
      "\n",
      "          0       0.93      0.48      0.63        52\n",
      "          1       0.84      0.99      0.91       145\n",
      "\n",
      "avg / total       0.86      0.85      0.84       197\n",
      "\n",
      "ROC AUC Score : 0.7335\n"
     ]
    }
   ],
   "source": [
    "from sklearn.linear_model import LogisticRegression\n",
    "\n",
    "lr_model =LogisticRegression(C=0.7, random_state=42)\n",
    "lr_model.fit(X_train, y_train.ravel())\n",
    "lr_predict_test = lr_model.predict(X_test)\n",
    "\n",
    "# training metrics\n",
    "print(\"Accuracy: {0:.4f}\".format(metrics.accuracy_score(y_test, lr_predict_test)))\n",
    "print(metrics.confusion_matrix(y_test, lr_predict_test) )\n",
    "print(\"\")\n",
    "print(\"Classification Report\")\n",
    "print(metrics.classification_report(y_test, lr_predict_test))\n",
    "print(\"ROC AUC Score : {0:.4f}\".format(roc_auc_score(y_test, lr_predict_test)))"
   ]
  },
  {
   "cell_type": "markdown",
   "metadata": {},
   "source": [
    "### Tuning based on iteration"
   ]
  },
  {
   "cell_type": "markdown",
   "metadata": {},
   "source": [
    "### Aim is to increase recall score...so that there are less false negative..i.e the deserving get the loan (Applicant Friendly)"
   ]
  },
  {
   "cell_type": "code",
   "execution_count": 53,
   "metadata": {},
   "outputs": [
    {
     "name": "stdout",
     "output_type": "stream",
     "text": [
      "1st max value of 0.972 occured at C=0.800\n"
     ]
    },
    {
     "data": {
      "text/plain": [
       "Text(0,0.5,'recall score')"
      ]
     },
     "execution_count": 53,
     "metadata": {},
     "output_type": "execute_result"
    },
    {
     "data": {
      "image/png": "[encoded data removed]",
      "text/plain": [
       "<Figure size 432x288 with 1 Axes>"
      ]
     },
     "metadata": {},
     "output_type": "display_data"
    }
   ],
   "source": [
    "C_start = 0.1\n",
    "C_end = 5\n",
    "C_inc = 0.1\n",
    "\n",
    "C_values, recall_scores = [], []\n",
    "\n",
    "C_val = C_start\n",
    "best_recall_score = 0\n",
    "while (C_val < C_end):\n",
    "    C_values.append(C_val)\n",
    "    lr_model_loop = LogisticRegression(C=C_val, class_weight=\"balanced\", random_state=42)\n",
    "    lr_model_loop.fit(X_train, y_train.ravel())\n",
    "    lr_predict_loop_test = lr_model_loop.predict(X_test)\n",
    "    recall_score = metrics.recall_score(y_test, lr_predict_loop_test)\n",
    "    recall_scores.append(recall_score)\n",
    "    if (recall_score > best_recall_score):\n",
    "        best_recall_score = recall_score\n",
    "        best_lr_predict_test = lr_predict_loop_test\n",
    "        \n",
    "    C_val = C_val + C_inc\n",
    "\n",
    "best_score_C_val = C_values[recall_scores.index(best_recall_score)]\n",
    "print(\"1st max value of {0:.3f} occured at C={1:.3f}\".format(best_recall_score, best_score_C_val))\n",
    "\n",
    "%matplotlib inline \n",
    "plt.plot(C_values, recall_scores, \"-\")\n",
    "plt.xlabel(\"C value\")\n",
    "plt.ylabel(\"recall score\")"
   ]
  },
  {
   "cell_type": "markdown",
   "metadata": {},
   "source": [
    "### Testing with best hyper parameters"
   ]
  },
  {
   "cell_type": "code",
   "execution_count": 54,
   "metadata": {},
   "outputs": [
    {
     "name": "stdout",
     "output_type": "stream",
     "text": [
      "Accuracy: 0.8477\n",
      "[[ 26  26]\n",
      " [  4 141]]\n",
      "\n",
      "Classification Report\n",
      "             precision    recall  f1-score   support\n",
      "\n",
      "          0       0.87      0.50      0.63        52\n",
      "          1       0.84      0.97      0.90       145\n",
      "\n",
      "avg / total       0.85      0.85      0.83       197\n",
      "\n",
      "0.9724137931034482\n",
      "ROC AUC Score : 0.7362\n"
     ]
    }
   ],
   "source": [
    "lr_model =LogisticRegression( class_weight=\"balanced\", C=best_score_C_val, random_state=42)\n",
    "lr_model.fit(X_train, y_train.ravel())\n",
    "lr_predict_test = lr_model.predict(X_test)\n",
    "\n",
    "# training metrics\n",
    "print(\"Accuracy: {0:.4f}\".format(metrics.accuracy_score(y_test, lr_predict_test)))\n",
    "print(metrics.confusion_matrix(y_test, lr_predict_test) )\n",
    "print(\"\")\n",
    "print(\"Classification Report\")\n",
    "print(metrics.classification_report(y_test, lr_predict_test))\n",
    "print(metrics.recall_score(y_test, lr_predict_test))\n",
    "print(\"ROC AUC Score : {0:.4f}\".format(roc_auc_score(y_test, lr_predict_test)))"
   ]
  },
  {
   "cell_type": "markdown",
   "metadata": {},
   "source": [
    "## Logistic Regression CV"
   ]
  },
  {
   "cell_type": "code",
   "execution_count": 55,
   "metadata": {},
   "outputs": [],
   "source": [
    "from sklearn.linear_model import LogisticRegressionCV"
   ]
  },
  {
   "cell_type": "markdown",
   "metadata": {},
   "source": [
    "### Tuning for best hyper parameters"
   ]
  },
  {
   "cell_type": "markdown",
   "metadata": {},
   "source": [
    "### Aim is to increase recall score...so that there are less false negative..i.e the deserving get the loan (Applicant Friendly)"
   ]
  },
  {
   "cell_type": "code",
   "execution_count": 56,
   "metadata": {},
   "outputs": [
    {
     "name": "stdout",
     "output_type": "stream",
     "text": [
      "1st max value of 0.952 occured at Cs=2.000\n"
     ]
    },
    {
     "data": {
      "text/plain": [
       "Text(0,0.5,'recall score')"
      ]
     },
     "execution_count": 56,
     "metadata": {},
     "output_type": "execute_result"
    },
    {
     "data": {
      "image/png": "[encoded data removed]",
      "text/plain": [
       "<Figure size 432x288 with 1 Axes>"
      ]
     },
     "metadata": {},
     "output_type": "display_data"
    }
   ],
   "source": [
    "Cs_start = 1\n",
    "Cs_end = 10\n",
    "Cs_inc = 1\n",
    "\n",
    "Cs_values, recall_scores = [], []\n",
    "\n",
    "Cs_val = Cs_start\n",
    "best_recall_score = 0\n",
    "while (Cs_val < Cs_end):\n",
    "    Cs_values.append(Cs_val)\n",
    "    lr_model_loop = LogisticRegressionCV(n_jobs=-1, random_state=42, Cs=Cs_val, cv=10, refit=False, class_weight=\"balanced\")\n",
    "    lr_model_loop.fit(X_train, y_train.ravel())\n",
    "    lr_predict_loop_test = lr_model_loop.predict(X_test)\n",
    "    recall_score = metrics.recall_score(y_test, lr_predict_loop_test)\n",
    "    recall_scores.append(recall_score)\n",
    "    if (recall_score > best_recall_score):\n",
    "        best_recall_score = recall_score\n",
    "        best_lr_predict_test = lr_predict_loop_test\n",
    "        \n",
    "    Cs_val = Cs_val + Cs_inc\n",
    "\n",
    "best_score_Cs_val = Cs_values[recall_scores.index(best_recall_score)]\n",
    "print(\"1st max value of {0:.3f} occured at Cs={1:.3f}\".format(best_recall_score, best_score_Cs_val))\n",
    "\n",
    "%matplotlib inline \n",
    "plt.plot(Cs_values, recall_scores, \"-\")\n",
    "plt.xlabel(\"Cs value\")\n",
    "plt.ylabel(\"recall score\")"
   ]
  },
  {
   "cell_type": "markdown",
   "metadata": {},
   "source": [
    "### Testing with best hyper parameters"
   ]
  },
  {
   "cell_type": "code",
   "execution_count": 57,
   "metadata": {},
   "outputs": [
    {
     "data": {
      "text/plain": [
       "LogisticRegressionCV(Cs=2, class_weight='balanced', cv=10, dual=False,\n",
       "           fit_intercept=True, intercept_scaling=1.0, max_iter=100,\n",
       "           multi_class='ovr', n_jobs=-1, penalty='l2', random_state=42,\n",
       "           refit=False, scoring=None, solver='lbfgs', tol=0.0001,\n",
       "           verbose=0)"
      ]
     },
     "execution_count": 57,
     "metadata": {},
     "output_type": "execute_result"
    }
   ],
   "source": [
    "lr_cv_model = LogisticRegressionCV(n_jobs=-1, random_state=42, Cs=best_score_Cs_val, cv=10, refit=False, class_weight=\"balanced\")  # set number of jobs to -1 which uses all cores to parallelize\n",
    "lr_cv_model.fit(X_train, y_train.ravel())"
   ]
  },
  {
   "cell_type": "code",
   "execution_count": 58,
   "metadata": {},
   "outputs": [
    {
     "name": "stdout",
     "output_type": "stream",
     "text": [
      "Accuracy: 0.8426\n",
      "[[ 28  24]\n",
      " [  7 138]]\n",
      "\n",
      "Classification Report\n",
      "             precision    recall  f1-score   support\n",
      "\n",
      "          0       0.80      0.54      0.64        52\n",
      "          1       0.85      0.95      0.90       145\n",
      "\n",
      "avg / total       0.84      0.84      0.83       197\n",
      "\n",
      "0.9517241379310345\n",
      "ROC AUC Score : 0.7451\n"
     ]
    }
   ],
   "source": [
    "lr_cv_predict_test = lr_cv_model.predict(X_test)\n",
    "\n",
    "# training metrics\n",
    "print(\"Accuracy: {0:.4f}\".format(metrics.accuracy_score(y_test, lr_cv_predict_test)))\n",
    "print(metrics.confusion_matrix(y_test, lr_cv_predict_test) )\n",
    "print(\"\")\n",
    "print(\"Classification Report\")\n",
    "print(metrics.classification_report(y_test, lr_cv_predict_test))\n",
    "print(metrics.recall_score(y_test, lr_cv_predict_test))\n",
    "print(\"ROC AUC Score : {0:.4f}\".format(roc_auc_score(y_test, lr_cv_predict_test)))"
   ]
  },
  {
   "cell_type": "markdown",
   "metadata": {},
   "source": [
    "## Gradient Boosting Classifier"
   ]
  },
  {
   "cell_type": "code",
   "execution_count": 59,
   "metadata": {},
   "outputs": [
    {
     "name": "stdout",
     "output_type": "stream",
     "text": [
      "Accuracy of the GBM on test set: 0.863\n",
      "Classification Report\n",
      "             precision    recall  f1-score   support\n",
      "\n",
      "          0       0.93      0.52      0.67        52\n",
      "          1       0.85      0.99      0.91       145\n",
      "\n",
      "avg / total       0.87      0.86      0.85       197\n",
      "\n",
      "0.9862068965517241\n",
      "ROC AUC Score : 0.7527\n"
     ]
    },
    {
     "data": {
      "image/png": "[encoded data removed]",
      "text/plain": [
       "<Figure size 432x288 with 1 Axes>"
      ]
     },
     "metadata": {},
     "output_type": "display_data"
    }
   ],
   "source": [
    "from sklearn.ensemble import GradientBoostingClassifier\n",
    "from sklearn.grid_search import GridSearchCV\n",
    "\n",
    "\n",
    "baseline = GradientBoostingClassifier(learning_rate=0.1, n_estimators=100,max_depth=3, min_samples_split=2, min_samples_leaf=1, subsample=1,max_features='sqrt', random_state=10)\n",
    "baseline.fit(X_train,y_train.ravel())\n",
    "predictors=list(X_train)\n",
    "feat_imp = pd.Series(baseline.feature_importances_, predictors).sort_values(ascending=False)\n",
    "feat_imp.plot(kind='bar', title='Importance of Features')\n",
    "plt.ylabel('Feature Importance Score')\n",
    "print('Accuracy of the GBM on test set: {:.3f}'.format(baseline.score(X_test, y_test)))\n",
    "pred=baseline.predict(X_test)\n",
    "print(\"Classification Report\")\n",
    "print(metrics.classification_report(y_test, pred))\n",
    "print(metrics.recall_score(y_test, pred))\n",
    "print(\"ROC AUC Score : {0:.4f}\".format(roc_auc_score(y_test, pred)))"
   ]
  },
  {
   "cell_type": "markdown",
   "metadata": {},
   "source": [
    "### Grid Search for best hyper parameters"
   ]
  },
  {
   "cell_type": "code",
   "execution_count": 60,
   "metadata": {},
   "outputs": [
    {
     "data": {
      "text/plain": [
       "([mean: 0.87251, std: 0.01759, params: {'learning_rate': 0.15, 'max_depth': 2, 'n_estimators': 100},\n",
       "  mean: 0.86355, std: 0.01515, params: {'learning_rate': 0.15, 'max_depth': 2, 'n_estimators': 250},\n",
       "  mean: 0.84693, std: 0.01669, params: {'learning_rate': 0.15, 'max_depth': 2, 'n_estimators': 500},\n",
       "  mean: 0.83931, std: 0.01562, params: {'learning_rate': 0.15, 'max_depth': 2, 'n_estimators': 750},\n",
       "  mean: 0.83551, std: 0.01633, params: {'learning_rate': 0.15, 'max_depth': 2, 'n_estimators': 1000},\n",
       "  mean: 0.82913, std: 0.01164, params: {'learning_rate': 0.15, 'max_depth': 2, 'n_estimators': 1250},\n",
       "  mean: 0.83298, std: 0.01805, params: {'learning_rate': 0.15, 'max_depth': 2, 'n_estimators': 1500},\n",
       "  mean: 0.82786, std: 0.01382, params: {'learning_rate': 0.15, 'max_depth': 2, 'n_estimators': 1750},\n",
       "  mean: 0.86613, std: 0.01930, params: {'learning_rate': 0.15, 'max_depth': 3, 'n_estimators': 100},\n",
       "  mean: 0.85076, std: 0.01316, params: {'learning_rate': 0.15, 'max_depth': 3, 'n_estimators': 250},\n",
       "  mean: 0.85339, std: 0.01368, params: {'learning_rate': 0.15, 'max_depth': 3, 'n_estimators': 500},\n",
       "  mean: 0.84828, std: 0.01217, params: {'learning_rate': 0.15, 'max_depth': 3, 'n_estimators': 750},\n",
       "  mean: 0.84700, std: 0.01328, params: {'learning_rate': 0.15, 'max_depth': 3, 'n_estimators': 1000},\n",
       "  mean: 0.84445, std: 0.01627, params: {'learning_rate': 0.15, 'max_depth': 3, 'n_estimators': 1250},\n",
       "  mean: 0.84320, std: 0.01652, params: {'learning_rate': 0.15, 'max_depth': 3, 'n_estimators': 1500},\n",
       "  mean: 0.84320, std: 0.01652, params: {'learning_rate': 0.15, 'max_depth': 3, 'n_estimators': 1750},\n",
       "  mean: 0.86991, std: 0.01533, params: {'learning_rate': 0.15, 'max_depth': 4, 'n_estimators': 100},\n",
       "  mean: 0.85719, std: 0.01498, params: {'learning_rate': 0.15, 'max_depth': 4, 'n_estimators': 250},\n",
       "  mean: 0.85975, std: 0.01395, params: {'learning_rate': 0.15, 'max_depth': 4, 'n_estimators': 500},\n",
       "  mean: 0.85338, std: 0.01756, params: {'learning_rate': 0.15, 'max_depth': 4, 'n_estimators': 750},\n",
       "  mean: 0.85336, std: 0.01861, params: {'learning_rate': 0.15, 'max_depth': 4, 'n_estimators': 1000},\n",
       "  mean: 0.85336, std: 0.01861, params: {'learning_rate': 0.15, 'max_depth': 4, 'n_estimators': 1250},\n",
       "  mean: 0.85336, std: 0.01861, params: {'learning_rate': 0.15, 'max_depth': 4, 'n_estimators': 1500},\n",
       "  mean: 0.85336, std: 0.01861, params: {'learning_rate': 0.15, 'max_depth': 4, 'n_estimators': 1750},\n",
       "  mean: 0.85714, std: 0.02312, params: {'learning_rate': 0.15, 'max_depth': 5, 'n_estimators': 100},\n",
       "  mean: 0.85083, std: 0.01236, params: {'learning_rate': 0.15, 'max_depth': 5, 'n_estimators': 250},\n",
       "  mean: 0.85209, std: 0.01422, params: {'learning_rate': 0.15, 'max_depth': 5, 'n_estimators': 500},\n",
       "  mean: 0.85209, std: 0.01422, params: {'learning_rate': 0.15, 'max_depth': 5, 'n_estimators': 750},\n",
       "  mean: 0.85209, std: 0.01422, params: {'learning_rate': 0.15, 'max_depth': 5, 'n_estimators': 1000},\n",
       "  mean: 0.85209, std: 0.01422, params: {'learning_rate': 0.15, 'max_depth': 5, 'n_estimators': 1250},\n",
       "  mean: 0.85209, std: 0.01422, params: {'learning_rate': 0.15, 'max_depth': 5, 'n_estimators': 1500},\n",
       "  mean: 0.85209, std: 0.01422, params: {'learning_rate': 0.15, 'max_depth': 5, 'n_estimators': 1750},\n",
       "  mean: 0.85969, std: 0.02138, params: {'learning_rate': 0.15, 'max_depth': 6, 'n_estimators': 100},\n",
       "  mean: 0.85461, std: 0.01722, params: {'learning_rate': 0.15, 'max_depth': 6, 'n_estimators': 250},\n",
       "  mean: 0.85203, std: 0.01746, params: {'learning_rate': 0.15, 'max_depth': 6, 'n_estimators': 500},\n",
       "  mean: 0.85203, std: 0.01746, params: {'learning_rate': 0.15, 'max_depth': 6, 'n_estimators': 750},\n",
       "  mean: 0.85203, std: 0.01746, params: {'learning_rate': 0.15, 'max_depth': 6, 'n_estimators': 1000},\n",
       "  mean: 0.85203, std: 0.01746, params: {'learning_rate': 0.15, 'max_depth': 6, 'n_estimators': 1250},\n",
       "  mean: 0.85203, std: 0.01746, params: {'learning_rate': 0.15, 'max_depth': 6, 'n_estimators': 1500},\n",
       "  mean: 0.85203, std: 0.01746, params: {'learning_rate': 0.15, 'max_depth': 6, 'n_estimators': 1750},\n",
       "  mean: 0.86100, std: 0.01264, params: {'learning_rate': 0.15, 'max_depth': 7, 'n_estimators': 100},\n",
       "  mean: 0.85972, std: 0.01488, params: {'learning_rate': 0.15, 'max_depth': 7, 'n_estimators': 250},\n",
       "  mean: 0.85972, std: 0.01488, params: {'learning_rate': 0.15, 'max_depth': 7, 'n_estimators': 500},\n",
       "  mean: 0.85972, std: 0.01488, params: {'learning_rate': 0.15, 'max_depth': 7, 'n_estimators': 750},\n",
       "  mean: 0.85972, std: 0.01488, params: {'learning_rate': 0.15, 'max_depth': 7, 'n_estimators': 1000},\n",
       "  mean: 0.85972, std: 0.01488, params: {'learning_rate': 0.15, 'max_depth': 7, 'n_estimators': 1250},\n",
       "  mean: 0.85972, std: 0.01488, params: {'learning_rate': 0.15, 'max_depth': 7, 'n_estimators': 1500},\n",
       "  mean: 0.85972, std: 0.01488, params: {'learning_rate': 0.15, 'max_depth': 7, 'n_estimators': 1750},\n",
       "  mean: 0.87507, std: 0.01632, params: {'learning_rate': 0.1, 'max_depth': 2, 'n_estimators': 100},\n",
       "  mean: 0.86227, std: 0.00918, params: {'learning_rate': 0.1, 'max_depth': 2, 'n_estimators': 250},\n",
       "  mean: 0.85714, std: 0.01036, params: {'learning_rate': 0.1, 'max_depth': 2, 'n_estimators': 500},\n",
       "  mean: 0.84310, std: 0.01318, params: {'learning_rate': 0.1, 'max_depth': 2, 'n_estimators': 750},\n",
       "  mean: 0.84187, std: 0.01045, params: {'learning_rate': 0.1, 'max_depth': 2, 'n_estimators': 1000},\n",
       "  mean: 0.83551, std: 0.01167, params: {'learning_rate': 0.1, 'max_depth': 2, 'n_estimators': 1250},\n",
       "  mean: 0.83806, std: 0.01488, params: {'learning_rate': 0.1, 'max_depth': 2, 'n_estimators': 1500},\n",
       "  mean: 0.83934, std: 0.01678, params: {'learning_rate': 0.1, 'max_depth': 2, 'n_estimators': 1750},\n",
       "  mean: 0.86868, std: 0.01696, params: {'learning_rate': 0.1, 'max_depth': 3, 'n_estimators': 100},\n",
       "  mean: 0.86357, std: 0.01496, params: {'learning_rate': 0.1, 'max_depth': 3, 'n_estimators': 250},\n",
       "  mean: 0.85334, std: 0.01304, params: {'learning_rate': 0.1, 'max_depth': 3, 'n_estimators': 500},\n",
       "  mean: 0.84572, std: 0.01636, params: {'learning_rate': 0.1, 'max_depth': 3, 'n_estimators': 750},\n",
       "  mean: 0.84828, std: 0.01461, params: {'learning_rate': 0.1, 'max_depth': 3, 'n_estimators': 1000},\n",
       "  mean: 0.84448, std: 0.01742, params: {'learning_rate': 0.1, 'max_depth': 3, 'n_estimators': 1250},\n",
       "  mean: 0.84573, std: 0.01400, params: {'learning_rate': 0.1, 'max_depth': 3, 'n_estimators': 1500},\n",
       "  mean: 0.84826, std: 0.00939, params: {'learning_rate': 0.1, 'max_depth': 3, 'n_estimators': 1750},\n",
       "  mean: 0.86866, std: 0.02131, params: {'learning_rate': 0.1, 'max_depth': 4, 'n_estimators': 100},\n",
       "  mean: 0.86355, std: 0.01144, params: {'learning_rate': 0.1, 'max_depth': 4, 'n_estimators': 250},\n",
       "  mean: 0.85211, std: 0.01214, params: {'learning_rate': 0.1, 'max_depth': 4, 'n_estimators': 500},\n",
       "  mean: 0.85341, std: 0.01520, params: {'learning_rate': 0.1, 'max_depth': 4, 'n_estimators': 750},\n",
       "  mean: 0.84956, std: 0.01153, params: {'learning_rate': 0.1, 'max_depth': 4, 'n_estimators': 1000},\n",
       "  mean: 0.84573, std: 0.01211, params: {'learning_rate': 0.1, 'max_depth': 4, 'n_estimators': 1250},\n",
       "  mean: 0.84573, std: 0.01211, params: {'learning_rate': 0.1, 'max_depth': 4, 'n_estimators': 1500},\n",
       "  mean: 0.84573, std: 0.01211, params: {'learning_rate': 0.1, 'max_depth': 4, 'n_estimators': 1750},\n",
       "  mean: 0.86610, std: 0.01691, params: {'learning_rate': 0.1, 'max_depth': 5, 'n_estimators': 100},\n",
       "  mean: 0.85974, std: 0.01084, params: {'learning_rate': 0.1, 'max_depth': 5, 'n_estimators': 250},\n",
       "  mean: 0.85464, std: 0.00850, params: {'learning_rate': 0.1, 'max_depth': 5, 'n_estimators': 500},\n",
       "  mean: 0.85464, std: 0.01021, params: {'learning_rate': 0.1, 'max_depth': 5, 'n_estimators': 750},\n",
       "  mean: 0.85464, std: 0.01021, params: {'learning_rate': 0.1, 'max_depth': 5, 'n_estimators': 1000},\n",
       "  mean: 0.85464, std: 0.01021, params: {'learning_rate': 0.1, 'max_depth': 5, 'n_estimators': 1250},\n",
       "  mean: 0.85464, std: 0.01021, params: {'learning_rate': 0.1, 'max_depth': 5, 'n_estimators': 1500},\n",
       "  mean: 0.85464, std: 0.01021, params: {'learning_rate': 0.1, 'max_depth': 5, 'n_estimators': 1750},\n",
       "  mean: 0.85714, std: 0.02312, params: {'learning_rate': 0.1, 'max_depth': 6, 'n_estimators': 100},\n",
       "  mean: 0.85584, std: 0.01812, params: {'learning_rate': 0.1, 'max_depth': 6, 'n_estimators': 250},\n",
       "  mean: 0.85587, std: 0.01739, params: {'learning_rate': 0.1, 'max_depth': 6, 'n_estimators': 500},\n",
       "  mean: 0.85587, std: 0.01739, params: {'learning_rate': 0.1, 'max_depth': 6, 'n_estimators': 750},\n",
       "  mean: 0.85587, std: 0.01739, params: {'learning_rate': 0.1, 'max_depth': 6, 'n_estimators': 1000},\n",
       "  mean: 0.85587, std: 0.01739, params: {'learning_rate': 0.1, 'max_depth': 6, 'n_estimators': 1250},\n",
       "  mean: 0.85587, std: 0.01739, params: {'learning_rate': 0.1, 'max_depth': 6, 'n_estimators': 1500},\n",
       "  mean: 0.85587, std: 0.01739, params: {'learning_rate': 0.1, 'max_depth': 6, 'n_estimators': 1750},\n",
       "  mean: 0.86605, std: 0.01419, params: {'learning_rate': 0.1, 'max_depth': 7, 'n_estimators': 100},\n",
       "  mean: 0.86732, std: 0.01329, params: {'learning_rate': 0.1, 'max_depth': 7, 'n_estimators': 250},\n",
       "  mean: 0.85839, std: 0.01612, params: {'learning_rate': 0.1, 'max_depth': 7, 'n_estimators': 500},\n",
       "  mean: 0.85839, std: 0.01612, params: {'learning_rate': 0.1, 'max_depth': 7, 'n_estimators': 750},\n",
       "  mean: 0.85839, std: 0.01612, params: {'learning_rate': 0.1, 'max_depth': 7, 'n_estimators': 1000},\n",
       "  mean: 0.85839, std: 0.01612, params: {'learning_rate': 0.1, 'max_depth': 7, 'n_estimators': 1250},\n",
       "  mean: 0.85839, std: 0.01612, params: {'learning_rate': 0.1, 'max_depth': 7, 'n_estimators': 1500},\n",
       "  mean: 0.85839, std: 0.01612, params: {'learning_rate': 0.1, 'max_depth': 7, 'n_estimators': 1750},\n",
       "  mean: 0.87764, std: 0.01848, params: {'learning_rate': 0.05, 'max_depth': 2, 'n_estimators': 100},\n",
       "  mean: 0.87251, std: 0.01508, params: {'learning_rate': 0.05, 'max_depth': 2, 'n_estimators': 250},\n",
       "  mean: 0.86865, std: 0.01813, params: {'learning_rate': 0.05, 'max_depth': 2, 'n_estimators': 500},\n",
       "  mean: 0.86740, std: 0.01592, params: {'learning_rate': 0.05, 'max_depth': 2, 'n_estimators': 750},\n",
       "  mean: 0.85972, std: 0.01241, params: {'learning_rate': 0.05, 'max_depth': 2, 'n_estimators': 1000},\n",
       "  mean: 0.85206, std: 0.01801, params: {'learning_rate': 0.05, 'max_depth': 2, 'n_estimators': 1250},\n",
       "  mean: 0.84825, std: 0.01256, params: {'learning_rate': 0.05, 'max_depth': 2, 'n_estimators': 1500},\n",
       "  mean: 0.84697, std: 0.01097, params: {'learning_rate': 0.05, 'max_depth': 2, 'n_estimators': 1750},\n",
       "  mean: 0.87507, std: 0.01777, params: {'learning_rate': 0.05, 'max_depth': 3, 'n_estimators': 100},\n",
       "  mean: 0.86866, std: 0.01610, params: {'learning_rate': 0.05, 'max_depth': 3, 'n_estimators': 250},\n",
       "  mean: 0.85974, std: 0.01523, params: {'learning_rate': 0.05, 'max_depth': 3, 'n_estimators': 500},\n",
       "  mean: 0.85466, std: 0.01466, params: {'learning_rate': 0.05, 'max_depth': 3, 'n_estimators': 750},\n",
       "  mean: 0.85592, std: 0.00948, params: {'learning_rate': 0.05, 'max_depth': 3, 'n_estimators': 1000},\n",
       "  mean: 0.85083, std: 0.01018, params: {'learning_rate': 0.05, 'max_depth': 3, 'n_estimators': 1250},\n",
       "  mean: 0.84828, std: 0.01074, params: {'learning_rate': 0.05, 'max_depth': 3, 'n_estimators': 1500},\n",
       "  mean: 0.84570, std: 0.00871, params: {'learning_rate': 0.05, 'max_depth': 3, 'n_estimators': 1750},\n",
       "  mean: 0.87124, std: 0.01626, params: {'learning_rate': 0.05, 'max_depth': 4, 'n_estimators': 100},\n",
       "  mean: 0.86355, std: 0.01985, params: {'learning_rate': 0.05, 'max_depth': 4, 'n_estimators': 250},\n",
       "  mean: 0.85844, std: 0.01461, params: {'learning_rate': 0.05, 'max_depth': 4, 'n_estimators': 500},\n",
       "  mean: 0.85594, std: 0.01468, params: {'learning_rate': 0.05, 'max_depth': 4, 'n_estimators': 750},\n",
       "  mean: 0.84956, std: 0.01625, params: {'learning_rate': 0.05, 'max_depth': 4, 'n_estimators': 1000},\n",
       "  mean: 0.84956, std: 0.01408, params: {'learning_rate': 0.05, 'max_depth': 4, 'n_estimators': 1250},\n",
       "  mean: 0.84447, std: 0.01337, params: {'learning_rate': 0.05, 'max_depth': 4, 'n_estimators': 1500},\n",
       "  mean: 0.84956, std: 0.01404, params: {'learning_rate': 0.05, 'max_depth': 4, 'n_estimators': 1750},\n",
       "  mean: 0.86360, std: 0.02066, params: {'learning_rate': 0.05, 'max_depth': 5, 'n_estimators': 100},\n",
       "  mean: 0.86099, std: 0.01570, params: {'learning_rate': 0.05, 'max_depth': 5, 'n_estimators': 250},\n",
       "  mean: 0.85972, std: 0.00855, params: {'learning_rate': 0.05, 'max_depth': 5, 'n_estimators': 500},\n",
       "  mean: 0.85213, std: 0.01702, params: {'learning_rate': 0.05, 'max_depth': 5, 'n_estimators': 750},\n",
       "  mean: 0.85339, std: 0.01371, params: {'learning_rate': 0.05, 'max_depth': 5, 'n_estimators': 1000},\n",
       "  mean: 0.85084, std: 0.01566, params: {'learning_rate': 0.05, 'max_depth': 5, 'n_estimators': 1250},\n",
       "  mean: 0.85209, std: 0.01422, params: {'learning_rate': 0.05, 'max_depth': 5, 'n_estimators': 1500},\n",
       "  mean: 0.85209, std: 0.01422, params: {'learning_rate': 0.05, 'max_depth': 5, 'n_estimators': 1750},\n",
       "  mean: 0.86482, std: 0.01667, params: {'learning_rate': 0.05, 'max_depth': 6, 'n_estimators': 100},\n",
       "  mean: 0.86097, std: 0.01018, params: {'learning_rate': 0.05, 'max_depth': 6, 'n_estimators': 250},\n",
       "  mean: 0.86225, std: 0.01429, params: {'learning_rate': 0.05, 'max_depth': 6, 'n_estimators': 500},\n",
       "  mean: 0.86352, std: 0.01040, params: {'learning_rate': 0.05, 'max_depth': 6, 'n_estimators': 750},\n",
       "  mean: 0.86227, std: 0.00918, params: {'learning_rate': 0.05, 'max_depth': 6, 'n_estimators': 1000},\n",
       "  mean: 0.86227, std: 0.00918, params: {'learning_rate': 0.05, 'max_depth': 6, 'n_estimators': 1250},\n",
       "  mean: 0.86227, std: 0.00918, params: {'learning_rate': 0.05, 'max_depth': 6, 'n_estimators': 1500},\n",
       "  mean: 0.86227, std: 0.00918, params: {'learning_rate': 0.05, 'max_depth': 6, 'n_estimators': 1750},\n",
       "  mean: 0.86994, std: 0.01384, params: {'learning_rate': 0.05, 'max_depth': 7, 'n_estimators': 100},\n",
       "  mean: 0.87119, std: 0.01146, params: {'learning_rate': 0.05, 'max_depth': 7, 'n_estimators': 250},\n",
       "  mean: 0.86352, std: 0.00868, params: {'learning_rate': 0.05, 'max_depth': 7, 'n_estimators': 500},\n",
       "  mean: 0.86099, std: 0.01076, params: {'learning_rate': 0.05, 'max_depth': 7, 'n_estimators': 750},\n",
       "  mean: 0.86099, std: 0.01076, params: {'learning_rate': 0.05, 'max_depth': 7, 'n_estimators': 1000},\n",
       "  mean: 0.86099, std: 0.01076, params: {'learning_rate': 0.05, 'max_depth': 7, 'n_estimators': 1250},\n",
       "  mean: 0.86099, std: 0.01076, params: {'learning_rate': 0.05, 'max_depth': 7, 'n_estimators': 1500},\n",
       "  mean: 0.86099, std: 0.01076, params: {'learning_rate': 0.05, 'max_depth': 7, 'n_estimators': 1750},\n",
       "  mean: 0.87636, std: 0.01725, params: {'learning_rate': 0.01, 'max_depth': 2, 'n_estimators': 100},\n",
       "  mean: 0.87764, std: 0.01848, params: {'learning_rate': 0.01, 'max_depth': 2, 'n_estimators': 250},\n",
       "  mean: 0.87764, std: 0.01848, params: {'learning_rate': 0.01, 'max_depth': 2, 'n_estimators': 500},\n",
       "  mean: 0.87764, std: 0.01848, params: {'learning_rate': 0.01, 'max_depth': 2, 'n_estimators': 750},\n",
       "  mean: 0.87636, std: 0.01725, params: {'learning_rate': 0.01, 'max_depth': 2, 'n_estimators': 1000},\n",
       "  mean: 0.87379, std: 0.01628, params: {'learning_rate': 0.01, 'max_depth': 2, 'n_estimators': 1250},\n",
       "  mean: 0.87124, std: 0.01521, params: {'learning_rate': 0.01, 'max_depth': 2, 'n_estimators': 1500},\n",
       "  mean: 0.86868, std: 0.01434, params: {'learning_rate': 0.01, 'max_depth': 2, 'n_estimators': 1750},\n",
       "  mean: 0.87636, std: 0.01725, params: {'learning_rate': 0.01, 'max_depth': 3, 'n_estimators': 100},\n",
       "  mean: 0.87636, std: 0.01725, params: {'learning_rate': 0.01, 'max_depth': 3, 'n_estimators': 250},\n",
       "  mean: 0.87636, std: 0.01725, params: {'learning_rate': 0.01, 'max_depth': 3, 'n_estimators': 500},\n",
       "  mean: 0.87253, std: 0.01699, params: {'learning_rate': 0.01, 'max_depth': 3, 'n_estimators': 750},\n",
       "  mean: 0.87124, std: 0.01521, params: {'learning_rate': 0.01, 'max_depth': 3, 'n_estimators': 1000},\n",
       "  mean: 0.86866, std: 0.01453, params: {'learning_rate': 0.01, 'max_depth': 3, 'n_estimators': 1250},\n",
       "  mean: 0.86865, std: 0.01627, params: {'learning_rate': 0.01, 'max_depth': 3, 'n_estimators': 1500},\n",
       "  mean: 0.86866, std: 0.01453, params: {'learning_rate': 0.01, 'max_depth': 3, 'n_estimators': 1750},\n",
       "  mean: 0.87764, std: 0.01848, params: {'learning_rate': 0.01, 'max_depth': 4, 'n_estimators': 100},\n",
       "  mean: 0.87507, std: 0.01581, params: {'learning_rate': 0.01, 'max_depth': 4, 'n_estimators': 250},\n",
       "  mean: 0.87124, std: 0.01521, params: {'learning_rate': 0.01, 'max_depth': 4, 'n_estimators': 500},\n",
       "  mean: 0.86866, std: 0.01453, params: {'learning_rate': 0.01, 'max_depth': 4, 'n_estimators': 750},\n",
       "  mean: 0.86738, std: 0.01752, params: {'learning_rate': 0.01, 'max_depth': 4, 'n_estimators': 1000},\n",
       "  mean: 0.86355, std: 0.01812, params: {'learning_rate': 0.01, 'max_depth': 4, 'n_estimators': 1250},\n",
       "  mean: 0.86355, std: 0.01620, params: {'learning_rate': 0.01, 'max_depth': 4, 'n_estimators': 1500},\n",
       "  mean: 0.85847, std: 0.01997, params: {'learning_rate': 0.01, 'max_depth': 4, 'n_estimators': 1750},\n",
       "  mean: 0.87637, std: 0.01894, params: {'learning_rate': 0.01, 'max_depth': 5, 'n_estimators': 100},\n",
       "  mean: 0.87379, std: 0.01469, params: {'learning_rate': 0.01, 'max_depth': 5, 'n_estimators': 250},\n",
       "  mean: 0.86996, std: 0.01875, params: {'learning_rate': 0.01, 'max_depth': 5, 'n_estimators': 500},\n",
       "  mean: 0.86994, std: 0.02013, params: {'learning_rate': 0.01, 'max_depth': 5, 'n_estimators': 750},\n",
       "  mean: 0.86482, std: 0.01853, params: {'learning_rate': 0.01, 'max_depth': 5, 'n_estimators': 1000},\n",
       "  mean: 0.86227, std: 0.01524, params: {'learning_rate': 0.01, 'max_depth': 5, 'n_estimators': 1250},\n",
       "  mean: 0.85846, std: 0.01798, params: {'learning_rate': 0.01, 'max_depth': 5, 'n_estimators': 1500},\n",
       "  mean: 0.85972, std: 0.01430, params: {'learning_rate': 0.01, 'max_depth': 5, 'n_estimators': 1750},\n",
       "  mean: 0.87509, std: 0.01764, params: {'learning_rate': 0.01, 'max_depth': 6, 'n_estimators': 100},\n",
       "  mean: 0.87381, std: 0.01664, params: {'learning_rate': 0.01, 'max_depth': 6, 'n_estimators': 250},\n",
       "  mean: 0.87121, std: 0.01839, params: {'learning_rate': 0.01, 'max_depth': 6, 'n_estimators': 500},\n",
       "  mean: 0.86866, std: 0.01610, params: {'learning_rate': 0.01, 'max_depth': 6, 'n_estimators': 750},\n",
       "  mean: 0.86863, std: 0.01303, params: {'learning_rate': 0.01, 'max_depth': 6, 'n_estimators': 1000},\n",
       "  mean: 0.86227, std: 0.01079, params: {'learning_rate': 0.01, 'max_depth': 6, 'n_estimators': 1250},\n",
       "  mean: 0.86225, std: 0.00747, params: {'learning_rate': 0.01, 'max_depth': 6, 'n_estimators': 1500},\n",
       "  mean: 0.86353, std: 0.01167, params: {'learning_rate': 0.01, 'max_depth': 6, 'n_estimators': 1750},\n",
       "  mean: 0.87509, std: 0.01764, params: {'learning_rate': 0.01, 'max_depth': 7, 'n_estimators': 100},\n",
       "  mean: 0.87381, std: 0.01895, params: {'learning_rate': 0.01, 'max_depth': 7, 'n_estimators': 250},\n",
       "  mean: 0.87121, std: 0.01548, params: {'learning_rate': 0.01, 'max_depth': 7, 'n_estimators': 500},\n",
       "  mean: 0.86610, std: 0.01368, params: {'learning_rate': 0.01, 'max_depth': 7, 'n_estimators': 750},\n",
       "  mean: 0.86483, std: 0.01654, params: {'learning_rate': 0.01, 'max_depth': 7, 'n_estimators': 1000},\n",
       "  mean: 0.86225, std: 0.01245, params: {'learning_rate': 0.01, 'max_depth': 7, 'n_estimators': 1250},\n",
       "  mean: 0.86097, std: 0.01239, params: {'learning_rate': 0.01, 'max_depth': 7, 'n_estimators': 1500},\n",
       "  mean: 0.86350, std: 0.01334, params: {'learning_rate': 0.01, 'max_depth': 7, 'n_estimators': 1750},\n",
       "  mean: 0.73598, std: 0.00147, params: {'learning_rate': 0.005, 'max_depth': 2, 'n_estimators': 100},\n",
       "  mean: 0.87636, std: 0.01725, params: {'learning_rate': 0.005, 'max_depth': 2, 'n_estimators': 250},\n",
       "  mean: 0.87764, std: 0.01848, params: {'learning_rate': 0.005, 'max_depth': 2, 'n_estimators': 500},\n",
       "  mean: 0.87764, std: 0.01848, params: {'learning_rate': 0.005, 'max_depth': 2, 'n_estimators': 750},\n",
       "  mean: 0.87764, std: 0.01848, params: {'learning_rate': 0.005, 'max_depth': 2, 'n_estimators': 1000},\n",
       "  mean: 0.87764, std: 0.01848, params: {'learning_rate': 0.005, 'max_depth': 2, 'n_estimators': 1250},\n",
       "  mean: 0.87764, std: 0.01848, params: {'learning_rate': 0.005, 'max_depth': 2, 'n_estimators': 1500},\n",
       "  mean: 0.87636, std: 0.01725, params: {'learning_rate': 0.005, 'max_depth': 2, 'n_estimators': 1750},\n",
       "  mean: 0.73851, std: 0.00432, params: {'learning_rate': 0.005, 'max_depth': 3, 'n_estimators': 100},\n",
       "  mean: 0.87636, std: 0.01725, params: {'learning_rate': 0.005, 'max_depth': 3, 'n_estimators': 250},\n",
       "  mean: 0.87764, std: 0.01848, params: {'learning_rate': 0.005, 'max_depth': 3, 'n_estimators': 500},\n",
       "  mean: 0.87507, std: 0.01777, params: {'learning_rate': 0.005, 'max_depth': 3, 'n_estimators': 750},\n",
       "  mean: 0.87507, std: 0.01777, params: {'learning_rate': 0.005, 'max_depth': 3, 'n_estimators': 1000},\n",
       "  mean: 0.87379, std: 0.01678, params: {'learning_rate': 0.005, 'max_depth': 3, 'n_estimators': 1250},\n",
       "  mean: 0.87253, std: 0.01699, params: {'learning_rate': 0.005, 'max_depth': 3, 'n_estimators': 1500},\n",
       "  mean: 0.87124, std: 0.01521, params: {'learning_rate': 0.005, 'max_depth': 3, 'n_estimators': 1750},\n",
       "  mean: 0.75125, std: 0.01373, params: {'learning_rate': 0.005, 'max_depth': 4, 'n_estimators': 100},\n",
       "  mean: 0.87764, std: 0.01848, params: {'learning_rate': 0.005, 'max_depth': 4, 'n_estimators': 250},\n",
       "  mean: 0.87507, std: 0.01581, params: {'learning_rate': 0.005, 'max_depth': 4, 'n_estimators': 500},\n",
       "  mean: 0.87379, std: 0.01678, params: {'learning_rate': 0.005, 'max_depth': 4, 'n_estimators': 750},\n",
       "  mean: 0.87253, std: 0.01699, params: {'learning_rate': 0.005, 'max_depth': 4, 'n_estimators': 1000},\n",
       "  mean: 0.87124, std: 0.01771, params: {'learning_rate': 0.005, 'max_depth': 4, 'n_estimators': 1250},\n",
       "  mean: 0.86866, std: 0.01453, params: {'learning_rate': 0.005, 'max_depth': 4, 'n_estimators': 1500},\n",
       "  mean: 0.86738, std: 0.01609, params: {'learning_rate': 0.005, 'max_depth': 4, 'n_estimators': 1750},\n",
       "  mean: 0.79990, std: 0.02564, params: {'learning_rate': 0.005, 'max_depth': 5, 'n_estimators': 100},\n",
       "  mean: 0.87636, std: 0.01725, params: {'learning_rate': 0.005, 'max_depth': 5, 'n_estimators': 250},\n",
       "  mean: 0.87507, std: 0.01632, params: {'learning_rate': 0.005, 'max_depth': 5, 'n_estimators': 500},\n",
       "  mean: 0.87251, std: 0.01613, params: {'learning_rate': 0.005, 'max_depth': 5, 'n_estimators': 750},\n",
       "  mean: 0.86996, std: 0.01691, params: {'learning_rate': 0.005, 'max_depth': 5, 'n_estimators': 1000},\n",
       "  mean: 0.86994, std: 0.01658, params: {'learning_rate': 0.005, 'max_depth': 5, 'n_estimators': 1250},\n",
       "  mean: 0.86866, std: 0.01934, params: {'learning_rate': 0.005, 'max_depth': 5, 'n_estimators': 1500},\n",
       "  mean: 0.86613, std: 0.01938, params: {'learning_rate': 0.005, 'max_depth': 5, 'n_estimators': 1750},\n",
       "  mean: 0.83549, std: 0.00964, params: {'learning_rate': 0.005, 'max_depth': 6, 'n_estimators': 100},\n",
       "  mean: 0.87381, std: 0.01664, params: {'learning_rate': 0.005, 'max_depth': 6, 'n_estimators': 250},\n",
       "  mean: 0.87509, std: 0.01855, params: {'learning_rate': 0.005, 'max_depth': 6, 'n_estimators': 500},\n",
       "  mean: 0.87377, std: 0.01594, params: {'learning_rate': 0.005, 'max_depth': 6, 'n_estimators': 750},\n",
       "  mean: 0.87123, std: 0.01688, params: {'learning_rate': 0.005, 'max_depth': 6, 'n_estimators': 1000},\n",
       "  mean: 0.86611, std: 0.01727, params: {'learning_rate': 0.005, 'max_depth': 6, 'n_estimators': 1250},\n",
       "  mean: 0.86483, std: 0.01842, params: {'learning_rate': 0.005, 'max_depth': 6, 'n_estimators': 1500},\n",
       "  mean: 0.86228, std: 0.01612, params: {'learning_rate': 0.005, 'max_depth': 6, 'n_estimators': 1750},\n",
       "  mean: 0.84065, std: 0.01514, params: {'learning_rate': 0.005, 'max_depth': 7, 'n_estimators': 100},\n",
       "  mean: 0.87381, std: 0.01664, params: {'learning_rate': 0.005, 'max_depth': 7, 'n_estimators': 250},\n",
       "  mean: 0.87254, std: 0.01956, params: {'learning_rate': 0.005, 'max_depth': 7, 'n_estimators': 500},\n",
       "  mean: 0.87251, std: 0.01894, params: {'learning_rate': 0.005, 'max_depth': 7, 'n_estimators': 750},\n",
       "  mean: 0.86994, std: 0.01498, params: {'learning_rate': 0.005, 'max_depth': 7, 'n_estimators': 1000},\n",
       "  mean: 0.86738, std: 0.01553, params: {'learning_rate': 0.005, 'max_depth': 7, 'n_estimators': 1250},\n",
       "  mean: 0.86736, std: 0.01456, params: {'learning_rate': 0.005, 'max_depth': 7, 'n_estimators': 1500},\n",
       "  mean: 0.86610, std: 0.01368, params: {'learning_rate': 0.005, 'max_depth': 7, 'n_estimators': 1750},\n",
       "  mean: 0.73598, std: 0.00147, params: {'learning_rate': 0.001, 'max_depth': 2, 'n_estimators': 100},\n",
       "  mean: 0.73598, std: 0.00147, params: {'learning_rate': 0.001, 'max_depth': 2, 'n_estimators': 250},\n",
       "  mean: 0.73598, std: 0.00147, params: {'learning_rate': 0.001, 'max_depth': 2, 'n_estimators': 500},\n",
       "  mean: 0.75511, std: 0.01348, params: {'learning_rate': 0.001, 'max_depth': 2, 'n_estimators': 750},\n",
       "  mean: 0.87636, std: 0.01725, params: {'learning_rate': 0.001, 'max_depth': 2, 'n_estimators': 1000},\n",
       "  mean: 0.87636, std: 0.01725, params: {'learning_rate': 0.001, 'max_depth': 2, 'n_estimators': 1250},\n",
       "  mean: 0.87764, std: 0.01848, params: {'learning_rate': 0.001, 'max_depth': 2, 'n_estimators': 1500},\n",
       "  mean: 0.87764, std: 0.01848, params: {'learning_rate': 0.001, 'max_depth': 2, 'n_estimators': 1750},\n",
       "  mean: 0.73598, std: 0.00147, params: {'learning_rate': 0.001, 'max_depth': 3, 'n_estimators': 100},\n",
       "  mean: 0.73598, std: 0.00147, params: {'learning_rate': 0.001, 'max_depth': 3, 'n_estimators': 250},\n",
       "  mean: 0.73724, std: 0.00200, params: {'learning_rate': 0.001, 'max_depth': 3, 'n_estimators': 500},\n",
       "  mean: 0.87126, std: 0.01661, params: {'learning_rate': 0.001, 'max_depth': 3, 'n_estimators': 750},\n",
       "  mean: 0.87636, std: 0.01725, params: {'learning_rate': 0.001, 'max_depth': 3, 'n_estimators': 1000},\n",
       "  mean: 0.87636, std: 0.01725, params: {'learning_rate': 0.001, 'max_depth': 3, 'n_estimators': 1250},\n",
       "  mean: 0.87764, std: 0.01848, params: {'learning_rate': 0.001, 'max_depth': 3, 'n_estimators': 1500},\n",
       "  mean: 0.87892, std: 0.01997, params: {'learning_rate': 0.001, 'max_depth': 3, 'n_estimators': 1750},\n",
       "  mean: 0.73598, std: 0.00147, params: {'learning_rate': 0.001, 'max_depth': 4, 'n_estimators': 100},\n",
       "  mean: 0.73598, std: 0.00147, params: {'learning_rate': 0.001, 'max_depth': 4, 'n_estimators': 250},\n",
       "  mean: 0.74364, std: 0.00670, params: {'learning_rate': 0.001, 'max_depth': 4, 'n_estimators': 500},\n",
       "  mean: 0.87509, std: 0.01764, params: {'learning_rate': 0.001, 'max_depth': 4, 'n_estimators': 750},\n",
       "  mean: 0.87636, std: 0.01725, params: {'learning_rate': 0.001, 'max_depth': 4, 'n_estimators': 1000},\n",
       "  mean: 0.87764, std: 0.01848, params: {'learning_rate': 0.001, 'max_depth': 4, 'n_estimators': 1250},\n",
       "  mean: 0.87764, std: 0.01848, params: {'learning_rate': 0.001, 'max_depth': 4, 'n_estimators': 1500},\n",
       "  mean: 0.87764, std: 0.01892, params: {'learning_rate': 0.001, 'max_depth': 4, 'n_estimators': 1750},\n",
       "  mean: 0.73598, std: 0.00147, params: {'learning_rate': 0.001, 'max_depth': 5, 'n_estimators': 100},\n",
       "  mean: 0.73598, std: 0.00147, params: {'learning_rate': 0.001, 'max_depth': 5, 'n_estimators': 250},\n",
       "  mean: 0.79213, std: 0.02164, params: {'learning_rate': 0.001, 'max_depth': 5, 'n_estimators': 500},\n",
       "  mean: 0.87509, std: 0.01764, params: {'learning_rate': 0.001, 'max_depth': 5, 'n_estimators': 750},\n",
       "  mean: 0.87637, std: 0.01894, params: {'learning_rate': 0.001, 'max_depth': 5, 'n_estimators': 1000},\n",
       "  mean: 0.87636, std: 0.01725, params: {'learning_rate': 0.001, 'max_depth': 5, 'n_estimators': 1250},\n",
       "  mean: 0.87636, std: 0.01818, params: {'learning_rate': 0.001, 'max_depth': 5, 'n_estimators': 1500},\n",
       "  mean: 0.87636, std: 0.01818, params: {'learning_rate': 0.001, 'max_depth': 5, 'n_estimators': 1750},\n",
       "  mean: 0.73598, std: 0.00147, params: {'learning_rate': 0.001, 'max_depth': 6, 'n_estimators': 100},\n",
       "  mean: 0.73598, std: 0.00147, params: {'learning_rate': 0.001, 'max_depth': 6, 'n_estimators': 250},\n",
       "  mean: 0.83549, std: 0.01038, params: {'learning_rate': 0.001, 'max_depth': 6, 'n_estimators': 500},\n",
       "  mean: 0.87509, std: 0.01764, params: {'learning_rate': 0.001, 'max_depth': 6, 'n_estimators': 750},\n",
       "  mean: 0.87381, std: 0.01664, params: {'learning_rate': 0.001, 'max_depth': 6, 'n_estimators': 1000},\n",
       "  mean: 0.87381, std: 0.01664, params: {'learning_rate': 0.001, 'max_depth': 6, 'n_estimators': 1250},\n",
       "  mean: 0.87507, std: 0.01632, params: {'learning_rate': 0.001, 'max_depth': 6, 'n_estimators': 1500},\n",
       "  mean: 0.87636, std: 0.01818, params: {'learning_rate': 0.001, 'max_depth': 6, 'n_estimators': 1750},\n",
       "  mean: 0.73598, std: 0.00147, params: {'learning_rate': 0.001, 'max_depth': 7, 'n_estimators': 100},\n",
       "  mean: 0.73598, std: 0.00147, params: {'learning_rate': 0.001, 'max_depth': 7, 'n_estimators': 250},\n",
       "  mean: 0.83934, std: 0.01730, params: {'learning_rate': 0.001, 'max_depth': 7, 'n_estimators': 500},\n",
       "  mean: 0.87511, std: 0.02090, params: {'learning_rate': 0.001, 'max_depth': 7, 'n_estimators': 750},\n",
       "  mean: 0.87509, std: 0.01764, params: {'learning_rate': 0.001, 'max_depth': 7, 'n_estimators': 1000},\n",
       "  mean: 0.87381, std: 0.01664, params: {'learning_rate': 0.001, 'max_depth': 7, 'n_estimators': 1250},\n",
       "  mean: 0.87381, std: 0.01664, params: {'learning_rate': 0.001, 'max_depth': 7, 'n_estimators': 1500},\n",
       "  mean: 0.87381, std: 0.01664, params: {'learning_rate': 0.001, 'max_depth': 7, 'n_estimators': 1750}],\n",
       " {'learning_rate': 0.001, 'max_depth': 3, 'n_estimators': 1750},\n",
       " 0.878919182083739)"
      ]
     },
     "execution_count": 60,
     "metadata": {},
     "output_type": "execute_result"
    }
   ],
   "source": [
    "p_test3 = {'learning_rate':[0.15,0.1,0.05,0.01,0.005,0.001], 'n_estimators':[100,250,500,750,1000,1250,1500,1750], 'max_depth':[2,3,4,5,6,7]}\n",
    "\n",
    "tuning = GridSearchCV(estimator =GradientBoostingClassifier(min_samples_split=2, min_samples_leaf=1, subsample=1,max_features='sqrt', random_state=10), \n",
    "            param_grid = p_test3, scoring='accuracy',n_jobs=4,iid=False, cv=5)\n",
    "tuning.fit(X_train,y_train.ravel())\n",
    "tuning.grid_scores_, tuning.best_params_, tuning.best_score_"
   ]
  },
  {
   "cell_type": "markdown",
   "metadata": {},
   "source": [
    "### Testing with best hyper parameters"
   ]
  },
  {
   "cell_type": "code",
   "execution_count": 61,
   "metadata": {},
   "outputs": [
    {
     "name": "stdout",
     "output_type": "stream",
     "text": [
      "Accuracy of the GBM on test set: 0.858\n",
      "Classification Report\n",
      "             precision    recall  f1-score   support\n",
      "\n",
      "          0       0.93      0.50      0.65        52\n",
      "          1       0.85      0.99      0.91       145\n",
      "\n",
      "avg / total       0.87      0.86      0.84       197\n",
      "\n",
      "0.9862068965517241\n",
      "ROC AUC Score : 0.7431\n"
     ]
    },
    {
     "data": {
      "image/png": "[encoded data removed]",
      "text/plain": [
       "<Figure size 432x288 with 1 Axes>"
      ]
     },
     "metadata": {},
     "output_type": "display_data"
    }
   ],
   "source": [
    "baseline = GradientBoostingClassifier(learning_rate=0.001, n_estimators=1750,max_depth=3, min_samples_split=2, min_samples_leaf=1, subsample=1,max_features='sqrt', random_state=10)\n",
    "baseline.fit(X_train,y_train.ravel())\n",
    "predictors=list(X_train)\n",
    "feat_imp = pd.Series(baseline.feature_importances_, predictors).sort_values(ascending=False)\n",
    "feat_imp.plot(kind='bar', title='Importance of Features')\n",
    "plt.ylabel('Feature Importance Score')\n",
    "print('Accuracy of the GBM on test set: {:.3f}'.format(baseline.score(X_test, y_test)))\n",
    "pred=baseline.predict(X_test)\n",
    "print(\"Classification Report\")\n",
    "print(metrics.classification_report(y_test, pred))\n",
    "print(metrics.recall_score(y_test, pred))\n",
    "print(\"ROC AUC Score : {0:.4f}\".format(roc_auc_score(y_test, pred)))"
   ]
  },
  {
   "cell_type": "markdown",
   "metadata": {},
   "source": [
    "## SVM model"
   ]
  },
  {
   "cell_type": "code",
   "execution_count": 62,
   "metadata": {},
   "outputs": [],
   "source": [
    "from sklearn import svm, grid_search\n",
    "def svc_param_selection(X, y, nfolds,Ker):\n",
    "    Cs = [0.001, 0.01, 0.1, 1, 10]\n",
    "    gammas = [0.001, 0.01, 0.1, 1]\n",
    "    param_grid = {'C': Cs, 'gamma' : gammas}\n",
    "    grid_search = GridSearchCV(svm.SVC(kernel=Ker), param_grid, cv=nfolds)\n",
    "    grid_search.fit(X, y)\n",
    "    grid_search.best_params_\n",
    "    return grid_search.best_params_\n"
   ]
  },
  {
   "cell_type": "markdown",
   "metadata": {},
   "source": [
    "### Function above will choose best hyper parameter for a given Kernel"
   ]
  },
  {
   "cell_type": "code",
   "execution_count": 63,
   "metadata": {},
   "outputs": [
    {
     "data": {
      "text/plain": [
       "{'C': 10, 'gamma': 0.01}"
      ]
     },
     "execution_count": 63,
     "metadata": {},
     "output_type": "execute_result"
    }
   ],
   "source": [
    "svc_param_selection(X_train,y_train.ravel(),5,'rbf')"
   ]
  },
  {
   "cell_type": "code",
   "execution_count": 64,
   "metadata": {},
   "outputs": [
    {
     "name": "stdout",
     "output_type": "stream",
     "text": [
      "Accuracy: 0.7411\n",
      "[[  2  50]\n",
      " [  1 144]]\n",
      "\n",
      "Classification Report\n",
      "             precision    recall  f1-score   support\n",
      "\n",
      "          0       0.67      0.04      0.07        52\n",
      "          1       0.74      0.99      0.85       145\n",
      "\n",
      "avg / total       0.72      0.74      0.64       197\n",
      "\n",
      "0.993103448275862\n",
      "ROC AUC Score : 0.5158\n"
     ]
    }
   ],
   "source": [
    "my_svm = svm.SVC(C=10, kernel=\"rbf\",gamma= 0.01)\n",
    "my_svm.fit(X_train, y_train.ravel())\n",
    "pred = my_svm.predict(X_test)\n",
    "# training metrics\n",
    "print(\"Accuracy: {0:.4f}\".format(metrics.accuracy_score(y_test, pred)))\n",
    "print(metrics.confusion_matrix(y_test, pred) )\n",
    "print(\"\")\n",
    "print(\"Classification Report\")\n",
    "print(metrics.classification_report(y_test, pred))\n",
    "print(metrics.recall_score(y_test, pred))\n",
    "print(\"ROC AUC Score : {0:.4f}\".format(roc_auc_score(y_test, pred)))"
   ]
  },
  {
   "cell_type": "code",
   "execution_count": 65,
   "metadata": {},
   "outputs": [
    {
     "name": "stdout",
     "output_type": "stream",
     "text": [
      "Accuracy: 0.8528\n",
      "[[ 24  28]\n",
      " [  1 144]]\n",
      "\n",
      "Classification Report\n",
      "             precision    recall  f1-score   support\n",
      "\n",
      "          0       0.96      0.46      0.62        52\n",
      "          1       0.84      0.99      0.91       145\n",
      "\n",
      "avg / total       0.87      0.85      0.83       197\n",
      "\n",
      "0.993103448275862\n",
      "ROC AUC Score : 0.7273\n"
     ]
    }
   ],
   "source": [
    "clf = svm.SVC(kernel='linear') # Linear Kernel\n",
    "\n",
    "#Train the model using the training sets\n",
    "clf.fit(X_train, y_train)\n",
    "\n",
    "#Predict the response for test dataset\n",
    "pred = clf.predict(X_test)\n",
    "# training metrics\n",
    "print(\"Accuracy: {0:.4f}\".format(metrics.accuracy_score(y_test, pred)))\n",
    "print(metrics.confusion_matrix(y_test, pred) )\n",
    "print(\"\")\n",
    "print(\"Classification Report\")\n",
    "print(metrics.classification_report(y_test, pred))\n",
    "print(metrics.recall_score(y_test, pred))\n",
    "print(\"ROC AUC Score : {0:.4f}\".format(roc_auc_score(y_test, pred)))"
   ]
  },
  {
   "cell_type": "code",
   "execution_count": null,
   "metadata": {},
   "outputs": [],
   "source": []
  }
 ],
 "metadata": {
  "kernelspec": {
   "display_name": "Python 3",
   "language": "python",
   "name": "python3"
  },
  "language_info": {
   "codemirror_mode": {
    "name": "ipython",
    "version": 3
   },
   "file_extension": ".py",
   "mimetype": "text/x-python",
   "name": "python",
   "nbconvert_exporter": "python",
   "pygments_lexer": "ipython3",
   "version": "3.6.5"
  }
 },
 "nbformat": 4,
 "nbformat_minor": 2
}
